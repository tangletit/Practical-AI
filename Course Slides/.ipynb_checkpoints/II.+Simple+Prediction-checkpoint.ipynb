{
 "cells": [
  {
   "cell_type": "markdown",
   "metadata": {},
   "source": [
    "# Simple Prediction"
   ]
  },
  {
   "cell_type": "code",
   "execution_count": 2,
   "metadata": {},
   "outputs": [],
   "source": [
    "import matplotlib\n",
    "import matplotlib.pyplot as plt\n",
    "%matplotlib inline\n",
    "import pandas as pd\n",
    "import warnings\n",
    "warnings.filterwarnings('ignore')"
   ]
  },
  {
   "cell_type": "markdown",
   "metadata": {},
   "source": [
    "Read the data."
   ]
  },
  {
   "cell_type": "code",
   "execution_count": 3,
   "metadata": {},
   "outputs": [],
   "source": [
    "olympia = pd.read_csv(\"olympia.csv\")"
   ]
  },
  {
   "cell_type": "markdown",
   "metadata": {},
   "source": [
    "Let's pretend that the 2016 olympics did not happen yet. We remove its records them from the dataset. Later, we will predict its results."
   ]
  },
  {
   "cell_type": "code",
   "execution_count": 4,
   "metadata": {},
   "outputs": [],
   "source": [
    "olympia_pre16 = olympia[olympia[\"year\"] < 2016]"
   ]
  },
  {
   "cell_type": "markdown",
   "metadata": {},
   "source": [
    "Let's looks for interesting columns that correlate with the medal count."
   ]
  },
  {
   "cell_type": "code",
   "execution_count": 6,
   "metadata": {},
   "outputs": [
    {
     "data": {
      "text/plain": [
       "medals                      1.000000\n",
       "electricity consumption     0.782745\n",
       "exports                     0.769728\n",
       "internet users              0.751845\n",
       "oil imports                 0.749657\n",
       "geographic area             0.634710\n",
       "pop                         0.415016\n",
       "region                      0.362122\n",
       "host                        0.304442\n",
       "gdp per capita              0.283597\n",
       "population growth rate      0.273188\n",
       "health expenditures         0.242673\n",
       "life expectancy at birth    0.241673\n",
       "gdp_cap                     0.211975\n",
       "continent                   0.203508\n",
       "unemployment rate           0.172209\n",
       "net migration rate          0.088922\n",
       "public debt                 0.062112\n",
       "obesity                     0.056740\n",
       "gross national saving       0.050463\n",
       "gdp growth rate             0.043479\n",
       "inflation rate              0.023262\n",
       "education expenditures      0.019502\n",
       "military expenditures       0.015251\n",
       "year                        0.006990\n",
       "Name: medals, dtype: float64"
      ]
     },
     "execution_count": 6,
     "metadata": {},
     "output_type": "execute_result"
    }
   ],
   "source": [
    "olympia.corr()['medals'].abs().sort_values(ascending=False)"
   ]
  },
  {
   "cell_type": "markdown",
   "metadata": {},
   "source": [
    "Obviously 'medal' correlates perfectly but it is the value we try to predict so we can not use it.\n",
    "\n",
    "Let's see what happens when we (naively) select the features (or independent variables) 'electricity consumption', 'exports', 'internet users', and 'oil imports'."
   ]
  },
  {
   "cell_type": "code",
   "execution_count": 21,
   "metadata": {},
   "outputs": [
    {
     "name": "stdout",
     "output_type": "stream",
     "text": [
      "There are 857 records.\n"
     ]
    },
    {
     "data": {
      "text/html": [
       "<div>\n",
       "<style scoped>\n",
       "    .dataframe tbody tr th:only-of-type {\n",
       "        vertical-align: middle;\n",
       "    }\n",
       "\n",
       "    .dataframe tbody tr th {\n",
       "        vertical-align: top;\n",
       "    }\n",
       "\n",
       "    .dataframe thead th {\n",
       "        text-align: right;\n",
       "    }\n",
       "</style>\n",
       "<table border=\"1\" class=\"dataframe\">\n",
       "  <thead>\n",
       "    <tr style=\"text-align: right;\">\n",
       "      <th></th>\n",
       "      <th>year</th>\n",
       "      <th>country</th>\n",
       "      <th>medals</th>\n",
       "      <th>electricity consumption</th>\n",
       "      <th>exports</th>\n",
       "      <th>internet users</th>\n",
       "      <th>oil imports</th>\n",
       "    </tr>\n",
       "  </thead>\n",
       "  <tbody>\n",
       "    <tr>\n",
       "      <th>0</th>\n",
       "      <td>2008</td>\n",
       "      <td>Afghanistan</td>\n",
       "      <td>1</td>\n",
       "      <td>1.088000e+09</td>\n",
       "      <td>274000000.0</td>\n",
       "      <td>580000.0</td>\n",
       "      <td>4534.0</td>\n",
       "    </tr>\n",
       "    <tr>\n",
       "      <th>1</th>\n",
       "      <td>2012</td>\n",
       "      <td>Afghanistan</td>\n",
       "      <td>1</td>\n",
       "      <td>2.226000e+09</td>\n",
       "      <td>376000000.0</td>\n",
       "      <td>1000000.0</td>\n",
       "      <td>NaN</td>\n",
       "    </tr>\n",
       "    <tr>\n",
       "      <th>3</th>\n",
       "      <td>1996</td>\n",
       "      <td>Albania</td>\n",
       "      <td>0</td>\n",
       "      <td>NaN</td>\n",
       "      <td>NaN</td>\n",
       "      <td>NaN</td>\n",
       "      <td>NaN</td>\n",
       "    </tr>\n",
       "    <tr>\n",
       "      <th>4</th>\n",
       "      <td>2000</td>\n",
       "      <td>Albania</td>\n",
       "      <td>0</td>\n",
       "      <td>5.290000e+09</td>\n",
       "      <td>242000000.0</td>\n",
       "      <td>NaN</td>\n",
       "      <td>NaN</td>\n",
       "    </tr>\n",
       "    <tr>\n",
       "      <th>5</th>\n",
       "      <td>2004</td>\n",
       "      <td>Albania</td>\n",
       "      <td>0</td>\n",
       "      <td>5.898000e+09</td>\n",
       "      <td>425000000.0</td>\n",
       "      <td>30000.0</td>\n",
       "      <td>NaN</td>\n",
       "    </tr>\n",
       "  </tbody>\n",
       "</table>\n",
       "</div>"
      ],
      "text/plain": [
       "   year      country  medals  electricity consumption      exports  \\\n",
       "0  2008  Afghanistan       1             1.088000e+09  274000000.0   \n",
       "1  2012  Afghanistan       1             2.226000e+09  376000000.0   \n",
       "3  1996      Albania       0                      NaN          NaN   \n",
       "4  2000      Albania       0             5.290000e+09  242000000.0   \n",
       "5  2004      Albania       0             5.898000e+09  425000000.0   \n",
       "\n",
       "   internet users  oil imports  \n",
       "0        580000.0       4534.0  \n",
       "1       1000000.0          NaN  \n",
       "3             NaN          NaN  \n",
       "4             NaN          NaN  \n",
       "5         30000.0          NaN  "
      ]
     },
     "execution_count": 21,
     "metadata": {},
     "output_type": "execute_result"
    }
   ],
   "source": [
    "dependent_variable = ['medals'] #what we want to predict\n",
    "independent_variables = ['electricity consumption', 'exports', 'internet users', 'oil imports'] #what we use to make a prediction\n",
    "training_data = olympia_pre16[(['year', 'country'] + dependent_variable + independent_variables)]\n",
    "print(\"There are %d records.\" % training_data.shape[0])\n",
    "training_data.head()"
   ]
  },
  {
   "cell_type": "markdown",
   "metadata": {},
   "source": [
    "We need to do something with the missing values. Let's see what happens if we drop them. "
   ]
  },
  {
   "cell_type": "code",
   "execution_count": 24,
   "metadata": {},
   "outputs": [
    {
     "name": "stdout",
     "output_type": "stream",
     "text": [
      "There are 277 records.\n"
     ]
    }
   ],
   "source": [
    "training_data.dropna(how='any', inplace=True)\n",
    "print(\"There are {0} records.\".format(training_data.shape[0]))"
   ]
  },
  {
   "cell_type": "markdown",
   "metadata": {},
   "source": [
    "Ok, time to train a LinearRegression model."
   ]
  },
  {
   "cell_type": "code",
   "execution_count": 27,
   "metadata": {},
   "outputs": [
    {
     "data": {
      "text/plain": [
       "array([2.38761713])"
      ]
     },
     "execution_count": 27,
     "metadata": {},
     "output_type": "execute_result"
    }
   ],
   "source": [
    "from sklearn.linear_model import LinearRegression\n",
    "lm = LinearRegression()\n",
    "\n",
    "lm.fit(training_data[independent_variables], training_data[dependent_variable])\n",
    "lm.coef_\n",
    "lm.intercept_"
   ]
  },
  {
   "cell_type": "markdown",
   "metadata": {},
   "source": [
    "Let's create a dataframe for the results."
   ]
  },
  {
   "cell_type": "code",
   "execution_count": 29,
   "metadata": {},
   "outputs": [
    {
     "data": {
      "text/html": [
       "<div>\n",
       "<style scoped>\n",
       "    .dataframe tbody tr th:only-of-type {\n",
       "        vertical-align: middle;\n",
       "    }\n",
       "\n",
       "    .dataframe tbody tr th {\n",
       "        vertical-align: top;\n",
       "    }\n",
       "\n",
       "    .dataframe thead th {\n",
       "        text-align: right;\n",
       "    }\n",
       "</style>\n",
       "<table border=\"1\" class=\"dataframe\">\n",
       "  <thead>\n",
       "    <tr style=\"text-align: right;\">\n",
       "      <th></th>\n",
       "      <th>country</th>\n",
       "      <th>true_medals</th>\n",
       "      <th>electricity consumption</th>\n",
       "      <th>exports</th>\n",
       "      <th>internet users</th>\n",
       "      <th>oil imports</th>\n",
       "    </tr>\n",
       "  </thead>\n",
       "  <tbody>\n",
       "    <tr>\n",
       "      <th>2</th>\n",
       "      <td>Afghanistan</td>\n",
       "      <td>0</td>\n",
       "      <td>2.489000e+09</td>\n",
       "      <td>3.760000e+08</td>\n",
       "      <td>1000000.0</td>\n",
       "      <td>NaN</td>\n",
       "    </tr>\n",
       "    <tr>\n",
       "      <th>8</th>\n",
       "      <td>Albania</td>\n",
       "      <td>0</td>\n",
       "      <td>4.551000e+09</td>\n",
       "      <td>2.323000e+09</td>\n",
       "      <td>1300000.0</td>\n",
       "      <td>NaN</td>\n",
       "    </tr>\n",
       "    <tr>\n",
       "      <th>14</th>\n",
       "      <td>Algeria</td>\n",
       "      <td>2</td>\n",
       "      <td>3.368000e+10</td>\n",
       "      <td>6.825000e+10</td>\n",
       "      <td>4700000.0</td>\n",
       "      <td>6400.0</td>\n",
       "    </tr>\n",
       "    <tr>\n",
       "      <th>20</th>\n",
       "      <td>Antigua and Barbuda</td>\n",
       "      <td>0</td>\n",
       "      <td>1.070000e+08</td>\n",
       "      <td>5.500000e+07</td>\n",
       "      <td>65000.0</td>\n",
       "      <td>NaN</td>\n",
       "    </tr>\n",
       "    <tr>\n",
       "      <th>25</th>\n",
       "      <td>Armenia</td>\n",
       "      <td>4</td>\n",
       "      <td>5.800000e+09</td>\n",
       "      <td>1.653000e+09</td>\n",
       "      <td>208200.0</td>\n",
       "      <td>NaN</td>\n",
       "    </tr>\n",
       "  </tbody>\n",
       "</table>\n",
       "</div>"
      ],
      "text/plain": [
       "                country  true_medals  electricity consumption       exports  \\\n",
       "2           Afghanistan            0             2.489000e+09  3.760000e+08   \n",
       "8               Albania            0             4.551000e+09  2.323000e+09   \n",
       "14              Algeria            2             3.368000e+10  6.825000e+10   \n",
       "20  Antigua and Barbuda            0             1.070000e+08  5.500000e+07   \n",
       "25              Armenia            4             5.800000e+09  1.653000e+09   \n",
       "\n",
       "    internet users  oil imports  \n",
       "2        1000000.0          NaN  \n",
       "8        1300000.0          NaN  \n",
       "14       4700000.0       6400.0  \n",
       "20         65000.0          NaN  \n",
       "25        208200.0          NaN  "
      ]
     },
     "execution_count": 29,
     "metadata": {},
     "output_type": "execute_result"
    }
   ],
   "source": [
    "olympia_2016 = olympia[olympia['year'] == 2016][['country', 'medals'] + independent_variables]\n",
    "olympia_2016.rename(columns={'medals': 'true_medals'}, inplace=True)\n",
    "olympia_2016.head()"
   ]
  },
  {
   "cell_type": "code",
   "execution_count": 30,
   "metadata": {},
   "outputs": [
    {
     "data": {
      "text/html": [
       "<div>\n",
       "<style scoped>\n",
       "    .dataframe tbody tr th:only-of-type {\n",
       "        vertical-align: middle;\n",
       "    }\n",
       "\n",
       "    .dataframe tbody tr th {\n",
       "        vertical-align: top;\n",
       "    }\n",
       "\n",
       "    .dataframe thead th {\n",
       "        text-align: right;\n",
       "    }\n",
       "</style>\n",
       "<table border=\"1\" class=\"dataframe\">\n",
       "  <thead>\n",
       "    <tr style=\"text-align: right;\">\n",
       "      <th></th>\n",
       "      <th>country</th>\n",
       "      <th>true_medals</th>\n",
       "      <th>electricity consumption</th>\n",
       "      <th>exports</th>\n",
       "      <th>internet users</th>\n",
       "      <th>oil imports</th>\n",
       "    </tr>\n",
       "  </thead>\n",
       "  <tbody>\n",
       "    <tr>\n",
       "      <th>0</th>\n",
       "      <td>Afghanistan</td>\n",
       "      <td>0</td>\n",
       "      <td>2.489000e+09</td>\n",
       "      <td>3.760000e+08</td>\n",
       "      <td>1000000.0</td>\n",
       "      <td>NaN</td>\n",
       "    </tr>\n",
       "    <tr>\n",
       "      <th>1</th>\n",
       "      <td>Albania</td>\n",
       "      <td>0</td>\n",
       "      <td>4.551000e+09</td>\n",
       "      <td>2.323000e+09</td>\n",
       "      <td>1300000.0</td>\n",
       "      <td>NaN</td>\n",
       "    </tr>\n",
       "    <tr>\n",
       "      <th>2</th>\n",
       "      <td>Algeria</td>\n",
       "      <td>2</td>\n",
       "      <td>3.368000e+10</td>\n",
       "      <td>6.825000e+10</td>\n",
       "      <td>4700000.0</td>\n",
       "      <td>6400.0</td>\n",
       "    </tr>\n",
       "    <tr>\n",
       "      <th>3</th>\n",
       "      <td>Antigua and Barbuda</td>\n",
       "      <td>0</td>\n",
       "      <td>1.070000e+08</td>\n",
       "      <td>5.500000e+07</td>\n",
       "      <td>65000.0</td>\n",
       "      <td>NaN</td>\n",
       "    </tr>\n",
       "    <tr>\n",
       "      <th>4</th>\n",
       "      <td>Armenia</td>\n",
       "      <td>4</td>\n",
       "      <td>5.800000e+09</td>\n",
       "      <td>1.653000e+09</td>\n",
       "      <td>208200.0</td>\n",
       "      <td>NaN</td>\n",
       "    </tr>\n",
       "  </tbody>\n",
       "</table>\n",
       "</div>"
      ],
      "text/plain": [
       "               country  true_medals  electricity consumption       exports  \\\n",
       "0          Afghanistan            0             2.489000e+09  3.760000e+08   \n",
       "1              Albania            0             4.551000e+09  2.323000e+09   \n",
       "2              Algeria            2             3.368000e+10  6.825000e+10   \n",
       "3  Antigua and Barbuda            0             1.070000e+08  5.500000e+07   \n",
       "4              Armenia            4             5.800000e+09  1.653000e+09   \n",
       "\n",
       "   internet users  oil imports  \n",
       "0       1000000.0          NaN  \n",
       "1       1300000.0          NaN  \n",
       "2       4700000.0       6400.0  \n",
       "3         65000.0          NaN  \n",
       "4        208200.0          NaN  "
      ]
     },
     "execution_count": 30,
     "metadata": {},
     "output_type": "execute_result"
    }
   ],
   "source": [
    "olympia_2016.index = range(olympia_2016.shape[0])\n",
    "olympia_2016.head()"
   ]
  },
  {
   "cell_type": "markdown",
   "metadata": {},
   "source": [
    "Let's predict the 2016 medal count using our model. Again we need to deal with missing values. Let's use the median value when it's missing. "
   ]
  },
  {
   "cell_type": "code",
   "execution_count": 33,
   "metadata": {},
   "outputs": [
    {
     "data": {
      "text/html": [
       "<div>\n",
       "<style scoped>\n",
       "    .dataframe tbody tr th:only-of-type {\n",
       "        vertical-align: middle;\n",
       "    }\n",
       "\n",
       "    .dataframe tbody tr th {\n",
       "        vertical-align: top;\n",
       "    }\n",
       "\n",
       "    .dataframe thead th {\n",
       "        text-align: right;\n",
       "    }\n",
       "</style>\n",
       "<table border=\"1\" class=\"dataframe\">\n",
       "  <thead>\n",
       "    <tr style=\"text-align: right;\">\n",
       "      <th></th>\n",
       "      <th>country</th>\n",
       "      <th>true_medals</th>\n",
       "      <th>electricity consumption</th>\n",
       "      <th>exports</th>\n",
       "      <th>internet users</th>\n",
       "      <th>oil imports</th>\n",
       "      <th>prediction</th>\n",
       "    </tr>\n",
       "  </thead>\n",
       "  <tbody>\n",
       "    <tr>\n",
       "      <th>0</th>\n",
       "      <td>Afghanistan</td>\n",
       "      <td>0</td>\n",
       "      <td>2.489000e+09</td>\n",
       "      <td>3.760000e+08</td>\n",
       "      <td>1000000.0</td>\n",
       "      <td>NaN</td>\n",
       "      <td>2.394506</td>\n",
       "    </tr>\n",
       "    <tr>\n",
       "      <th>1</th>\n",
       "      <td>Albania</td>\n",
       "      <td>0</td>\n",
       "      <td>4.551000e+09</td>\n",
       "      <td>2.323000e+09</td>\n",
       "      <td>1300000.0</td>\n",
       "      <td>NaN</td>\n",
       "      <td>2.453715</td>\n",
       "    </tr>\n",
       "    <tr>\n",
       "      <th>2</th>\n",
       "      <td>Algeria</td>\n",
       "      <td>2</td>\n",
       "      <td>3.368000e+10</td>\n",
       "      <td>6.825000e+10</td>\n",
       "      <td>4700000.0</td>\n",
       "      <td>6400.0</td>\n",
       "      <td>4.548191</td>\n",
       "    </tr>\n",
       "    <tr>\n",
       "      <th>3</th>\n",
       "      <td>Antigua and Barbuda</td>\n",
       "      <td>0</td>\n",
       "      <td>1.070000e+08</td>\n",
       "      <td>5.500000e+07</td>\n",
       "      <td>65000.0</td>\n",
       "      <td>NaN</td>\n",
       "      <td>2.495798</td>\n",
       "    </tr>\n",
       "    <tr>\n",
       "      <th>4</th>\n",
       "      <td>Armenia</td>\n",
       "      <td>4</td>\n",
       "      <td>5.800000e+09</td>\n",
       "      <td>1.653000e+09</td>\n",
       "      <td>208200.0</td>\n",
       "      <td>NaN</td>\n",
       "      <td>2.666667</td>\n",
       "    </tr>\n",
       "  </tbody>\n",
       "</table>\n",
       "</div>"
      ],
      "text/plain": [
       "               country  true_medals  electricity consumption       exports  \\\n",
       "0          Afghanistan            0             2.489000e+09  3.760000e+08   \n",
       "1              Albania            0             4.551000e+09  2.323000e+09   \n",
       "2              Algeria            2             3.368000e+10  6.825000e+10   \n",
       "3  Antigua and Barbuda            0             1.070000e+08  5.500000e+07   \n",
       "4              Armenia            4             5.800000e+09  1.653000e+09   \n",
       "\n",
       "   internet users  oil imports  prediction  \n",
       "0       1000000.0          NaN    2.394506  \n",
       "1       1300000.0          NaN    2.453715  \n",
       "2       4700000.0       6400.0    4.548191  \n",
       "3         65000.0          NaN    2.495798  \n",
       "4        208200.0          NaN    2.666667  "
      ]
     },
     "execution_count": 33,
     "metadata": {},
     "output_type": "execute_result"
    }
   ],
   "source": [
    "feature_medians = olympia_2016[independent_variables].median().to_dict()\n",
    "olympia_2016['prediction'] = lm.predict(olympia_2016[independent_variables].fillna(feature_medians))\n",
    "olympia_2016.head()"
   ]
  },
  {
   "cell_type": "markdown",
   "metadata": {},
   "source": [
    "The prediction is a floating point number but we need integer counts."
   ]
  },
  {
   "cell_type": "code",
   "execution_count": 34,
   "metadata": {},
   "outputs": [
    {
     "data": {
      "text/html": [
       "<div>\n",
       "<style scoped>\n",
       "    .dataframe tbody tr th:only-of-type {\n",
       "        vertical-align: middle;\n",
       "    }\n",
       "\n",
       "    .dataframe tbody tr th {\n",
       "        vertical-align: top;\n",
       "    }\n",
       "\n",
       "    .dataframe thead th {\n",
       "        text-align: right;\n",
       "    }\n",
       "</style>\n",
       "<table border=\"1\" class=\"dataframe\">\n",
       "  <thead>\n",
       "    <tr style=\"text-align: right;\">\n",
       "      <th></th>\n",
       "      <th>country</th>\n",
       "      <th>true_medals</th>\n",
       "      <th>electricity consumption</th>\n",
       "      <th>exports</th>\n",
       "      <th>internet users</th>\n",
       "      <th>oil imports</th>\n",
       "      <th>prediction</th>\n",
       "      <th>prediction_rounded</th>\n",
       "    </tr>\n",
       "  </thead>\n",
       "  <tbody>\n",
       "    <tr>\n",
       "      <th>0</th>\n",
       "      <td>Afghanistan</td>\n",
       "      <td>0</td>\n",
       "      <td>2.489000e+09</td>\n",
       "      <td>3.760000e+08</td>\n",
       "      <td>1000000.0</td>\n",
       "      <td>NaN</td>\n",
       "      <td>2.394506</td>\n",
       "      <td>2</td>\n",
       "    </tr>\n",
       "    <tr>\n",
       "      <th>1</th>\n",
       "      <td>Albania</td>\n",
       "      <td>0</td>\n",
       "      <td>4.551000e+09</td>\n",
       "      <td>2.323000e+09</td>\n",
       "      <td>1300000.0</td>\n",
       "      <td>NaN</td>\n",
       "      <td>2.453715</td>\n",
       "      <td>2</td>\n",
       "    </tr>\n",
       "    <tr>\n",
       "      <th>2</th>\n",
       "      <td>Algeria</td>\n",
       "      <td>2</td>\n",
       "      <td>3.368000e+10</td>\n",
       "      <td>6.825000e+10</td>\n",
       "      <td>4700000.0</td>\n",
       "      <td>6400.0</td>\n",
       "      <td>4.548191</td>\n",
       "      <td>5</td>\n",
       "    </tr>\n",
       "    <tr>\n",
       "      <th>3</th>\n",
       "      <td>Antigua and Barbuda</td>\n",
       "      <td>0</td>\n",
       "      <td>1.070000e+08</td>\n",
       "      <td>5.500000e+07</td>\n",
       "      <td>65000.0</td>\n",
       "      <td>NaN</td>\n",
       "      <td>2.495798</td>\n",
       "      <td>2</td>\n",
       "    </tr>\n",
       "    <tr>\n",
       "      <th>4</th>\n",
       "      <td>Armenia</td>\n",
       "      <td>4</td>\n",
       "      <td>5.800000e+09</td>\n",
       "      <td>1.653000e+09</td>\n",
       "      <td>208200.0</td>\n",
       "      <td>NaN</td>\n",
       "      <td>2.666667</td>\n",
       "      <td>3</td>\n",
       "    </tr>\n",
       "    <tr>\n",
       "      <th>5</th>\n",
       "      <td>Australia</td>\n",
       "      <td>29</td>\n",
       "      <td>2.140000e+11</td>\n",
       "      <td>2.520000e+11</td>\n",
       "      <td>15810000.0</td>\n",
       "      <td>475900.0</td>\n",
       "      <td>13.360439</td>\n",
       "      <td>13</td>\n",
       "    </tr>\n",
       "    <tr>\n",
       "      <th>6</th>\n",
       "      <td>Austria</td>\n",
       "      <td>0</td>\n",
       "      <td>6.380000e+10</td>\n",
       "      <td>1.660000e+11</td>\n",
       "      <td>6143000.0</td>\n",
       "      <td>139000.0</td>\n",
       "      <td>8.261363</td>\n",
       "      <td>8</td>\n",
       "    </tr>\n",
       "    <tr>\n",
       "      <th>7</th>\n",
       "      <td>Azerbaijan</td>\n",
       "      <td>18</td>\n",
       "      <td>2.029000e+10</td>\n",
       "      <td>3.446000e+10</td>\n",
       "      <td>2420000.0</td>\n",
       "      <td>NaN</td>\n",
       "      <td>3.667449</td>\n",
       "      <td>4</td>\n",
       "    </tr>\n",
       "    <tr>\n",
       "      <th>8</th>\n",
       "      <td>Bahamas</td>\n",
       "      <td>2</td>\n",
       "      <td>1.795000e+09</td>\n",
       "      <td>9.600000e+08</td>\n",
       "      <td>115800.0</td>\n",
       "      <td>NaN</td>\n",
       "      <td>2.558534</td>\n",
       "      <td>3</td>\n",
       "    </tr>\n",
       "    <tr>\n",
       "      <th>9</th>\n",
       "      <td>Bahrain</td>\n",
       "      <td>2</td>\n",
       "      <td>1.297000e+10</td>\n",
       "      <td>2.069000e+10</td>\n",
       "      <td>419500.0</td>\n",
       "      <td>256000.0</td>\n",
       "      <td>3.522640</td>\n",
       "      <td>4</td>\n",
       "    </tr>\n",
       "  </tbody>\n",
       "</table>\n",
       "</div>"
      ],
      "text/plain": [
       "               country  true_medals  electricity consumption       exports  \\\n",
       "0          Afghanistan            0             2.489000e+09  3.760000e+08   \n",
       "1              Albania            0             4.551000e+09  2.323000e+09   \n",
       "2              Algeria            2             3.368000e+10  6.825000e+10   \n",
       "3  Antigua and Barbuda            0             1.070000e+08  5.500000e+07   \n",
       "4              Armenia            4             5.800000e+09  1.653000e+09   \n",
       "5            Australia           29             2.140000e+11  2.520000e+11   \n",
       "6              Austria            0             6.380000e+10  1.660000e+11   \n",
       "7           Azerbaijan           18             2.029000e+10  3.446000e+10   \n",
       "8              Bahamas            2             1.795000e+09  9.600000e+08   \n",
       "9              Bahrain            2             1.297000e+10  2.069000e+10   \n",
       "\n",
       "   internet users  oil imports  prediction  prediction_rounded  \n",
       "0       1000000.0          NaN    2.394506                   2  \n",
       "1       1300000.0          NaN    2.453715                   2  \n",
       "2       4700000.0       6400.0    4.548191                   5  \n",
       "3         65000.0          NaN    2.495798                   2  \n",
       "4        208200.0          NaN    2.666667                   3  \n",
       "5      15810000.0     475900.0   13.360439                  13  \n",
       "6       6143000.0     139000.0    8.261363                   8  \n",
       "7       2420000.0          NaN    3.667449                   4  \n",
       "8        115800.0          NaN    2.558534                   3  \n",
       "9        419500.0     256000.0    3.522640                   4  "
      ]
     },
     "execution_count": 34,
     "metadata": {},
     "output_type": "execute_result"
    }
   ],
   "source": [
    "olympia_2016['prediction_rounded'] = [int(round(c)) for c in olympia_2016['prediction']]\n",
    "olympia_2016.head(10)"
   ]
  },
  {
   "cell_type": "markdown",
   "metadata": {},
   "source": [
    "Doesn't look perfect. Let's measure our performance."
   ]
  },
  {
   "cell_type": "code",
   "execution_count": 38,
   "metadata": {},
   "outputs": [
    {
     "name": "stdout",
     "output_type": "stream",
     "text": [
      "Linear Regression R2 (variance explained): 0.63\n",
      "Linear Regression Accuracy: 0.02\n",
      "Linear Regression MSE: 70.48\n",
      "We predicted only 2% correctly!\n"
     ]
    }
   ],
   "source": [
    "from sklearn.metrics import accuracy_score, mean_squared_error, r2_score\n",
    "\n",
    "lm1_r_squared = lm.score(olympia_2016[independent_variables].fillna(feature_medians), olympia_2016['true_medals'])\n",
    "lm1_accuracy = accuracy_score(olympia_2016['true_medals'], olympia_2016['prediction_rounded'])\n",
    "lm1_mse = mean_squared_error(olympia_2016['true_medals'], olympia_2016['prediction_rounded'])\n",
    "\n",
    "print(\"Linear Regression R2 (variance explained): %.2f\" % lm1_r_squared)\n",
    "print(\"Linear Regression Accuracy: %.2f\" % lm1_accuracy)\n",
    "print(\"Linear Regression MSE: %.2f\" % lm1_mse)\n",
    "print(\"We predicted only {0}% correctly!\".format(int(lm1_accuracy * 100.0)))"
   ]
  },
  {
   "cell_type": "markdown",
   "metadata": {},
   "source": [
    "Our accuracy is very bad but we can account for more than half of the varaince. Let see what is happening."
   ]
  },
  {
   "cell_type": "code",
   "execution_count": 12,
   "metadata": {},
   "outputs": [
    {
     "data": {
      "text/plain": [
       "array([[  2.58020165e-11,   3.15751946e-11,  -1.84906752e-07,\n",
       "          8.77531017e-07]])"
      ]
     },
     "execution_count": 12,
     "metadata": {},
     "output_type": "execute_result"
    },
    {
     "data": {
      "image/png": "[encoded data removed]",
      "text/plain": [
       "<matplotlib.figure.Figure at 0x10c608470>"
      ]
     },
     "metadata": {},
     "output_type": "display_data"
    }
   ],
   "source": [
    "plt.scatter(olympia_2016['true_medals'], olympia_2016['prediction'])\n",
    "plt.xlabel('true medals')\n",
    "plt.ylabel('prediction')\n",
    "\n",
    "lm.coef_"
   ]
  },
  {
   "cell_type": "code",
   "execution_count": 13,
   "metadata": {},
   "outputs": [
    {
     "data": {
      "text/html": [
       "<div>\n",
       "<style>\n",
       "    .dataframe thead tr:only-child th {\n",
       "        text-align: right;\n",
       "    }\n",
       "\n",
       "    .dataframe thead th {\n",
       "        text-align: left;\n",
       "    }\n",
       "\n",
       "    .dataframe tbody tr th {\n",
       "        vertical-align: top;\n",
       "    }\n",
       "</style>\n",
       "<table border=\"1\" class=\"dataframe\">\n",
       "  <thead>\n",
       "    <tr style=\"text-align: right;\">\n",
       "      <th></th>\n",
       "      <th>electricity consumption</th>\n",
       "      <th>exports</th>\n",
       "      <th>internet users</th>\n",
       "      <th>oil imports</th>\n",
       "    </tr>\n",
       "  </thead>\n",
       "  <tbody>\n",
       "    <tr>\n",
       "      <th>electricity consumption</th>\n",
       "      <td>1.000000</td>\n",
       "      <td>0.818365</td>\n",
       "      <td>0.961135</td>\n",
       "      <td>0.821660</td>\n",
       "    </tr>\n",
       "    <tr>\n",
       "      <th>exports</th>\n",
       "      <td>0.818365</td>\n",
       "      <td>1.000000</td>\n",
       "      <td>0.853678</td>\n",
       "      <td>0.773788</td>\n",
       "    </tr>\n",
       "    <tr>\n",
       "      <th>internet users</th>\n",
       "      <td>0.961135</td>\n",
       "      <td>0.853678</td>\n",
       "      <td>1.000000</td>\n",
       "      <td>0.780049</td>\n",
       "    </tr>\n",
       "    <tr>\n",
       "      <th>oil imports</th>\n",
       "      <td>0.821660</td>\n",
       "      <td>0.773788</td>\n",
       "      <td>0.780049</td>\n",
       "      <td>1.000000</td>\n",
       "    </tr>\n",
       "  </tbody>\n",
       "</table>\n",
       "</div>"
      ],
      "text/plain": [
       "                         electricity consumption   exports  internet users  \\\n",
       "electricity consumption                 1.000000  0.818365        0.961135   \n",
       "exports                                 0.818365  1.000000        0.853678   \n",
       "internet users                          0.961135  0.853678        1.000000   \n",
       "oil imports                             0.821660  0.773788        0.780049   \n",
       "\n",
       "                         oil imports  \n",
       "electricity consumption     0.821660  \n",
       "exports                     0.773788  \n",
       "internet users              0.780049  \n",
       "oil imports                 1.000000  "
      ]
     },
     "execution_count": 13,
     "metadata": {},
     "output_type": "execute_result"
    }
   ],
   "source": [
    "olympia[independent_variables].corr()"
   ]
  },
  {
   "cell_type": "markdown",
   "metadata": {},
   "source": [
    "The problem appears to be that the measures we selected correlate very much among each other, i.e. combining them does not help us very much as they measure to a large extent the same thing (presumably economic development of the country)."
   ]
  },
  {
   "cell_type": "markdown",
   "metadata": {},
   "source": [
    "### Naive Baseline"
   ]
  },
  {
   "cell_type": "markdown",
   "metadata": {},
   "source": [
    "How good are we compared to a naïve approach though? A very simple prediction is to predict always the most common value. What is the most common value for medals in the data set?"
   ]
  },
  {
   "cell_type": "code",
   "execution_count": 52,
   "metadata": {},
   "outputs": [
    {
     "data": {
      "text/plain": [
       "float"
      ]
     },
     "execution_count": 52,
     "metadata": {},
     "output_type": "execute_result"
    }
   ],
   "source": [
    "median_medals = olympia_pre16['medals'].mean()\n",
    "type(median_medals)\n",
    "# print(\"The median medal count is %.0f.\" % median_medals)"
   ]
  },
  {
   "cell_type": "markdown",
   "metadata": {},
   "source": [
    "Calculate metrics of a model that always predicts the median value."
   ]
  },
  {
   "cell_type": "code",
   "execution_count": 53,
   "metadata": {},
   "outputs": [
    {
     "ename": "ValueError",
     "evalue": "Classification metrics can't handle a mix of multiclass and continuous targets",
     "output_type": "error",
     "traceback": [
      "\u001b[0;31m---------------------------------------------------------------------------\u001b[0m",
      "\u001b[0;31mValueError\u001b[0m                                Traceback (most recent call last)",
      "\u001b[0;32m<ipython-input-53-f676fcd0601e>\u001b[0m in \u001b[0;36m<module>\u001b[0;34m()\u001b[0m\n\u001b[1;32m      2\u001b[0m \u001b[0;34m\u001b[0m\u001b[0m\n\u001b[1;32m      3\u001b[0m \u001b[0mr2_naive\u001b[0m \u001b[0;34m=\u001b[0m \u001b[0mr2_score\u001b[0m\u001b[0;34m(\u001b[0m\u001b[0molympia_2016\u001b[0m\u001b[0;34m[\u001b[0m\u001b[0;34m'true_medals'\u001b[0m\u001b[0;34m]\u001b[0m\u001b[0;34m,\u001b[0m \u001b[0mnaive_predictions\u001b[0m\u001b[0;34m)\u001b[0m\u001b[0;34m\u001b[0m\u001b[0m\n\u001b[0;32m----> 4\u001b[0;31m \u001b[0maccuracy_naive\u001b[0m \u001b[0;34m=\u001b[0m \u001b[0maccuracy_score\u001b[0m\u001b[0;34m(\u001b[0m\u001b[0molympia_2016\u001b[0m\u001b[0;34m[\u001b[0m\u001b[0;34m'true_medals'\u001b[0m\u001b[0;34m]\u001b[0m\u001b[0;34m,\u001b[0m \u001b[0mnaive_predictions\u001b[0m\u001b[0;34m)\u001b[0m\u001b[0;34m\u001b[0m\u001b[0m\n\u001b[0m\u001b[1;32m      5\u001b[0m \u001b[0mmse_naive\u001b[0m \u001b[0;34m=\u001b[0m \u001b[0mmean_squared_error\u001b[0m\u001b[0;34m(\u001b[0m\u001b[0molympia_2016\u001b[0m\u001b[0;34m[\u001b[0m\u001b[0;34m'true_medals'\u001b[0m\u001b[0;34m]\u001b[0m\u001b[0;34m,\u001b[0m \u001b[0mnaive_predictions\u001b[0m\u001b[0;34m)\u001b[0m\u001b[0;34m\u001b[0m\u001b[0m\n\u001b[1;32m      6\u001b[0m \u001b[0;34m\u001b[0m\u001b[0m\n",
      "\u001b[0;32m/anaconda3/lib/python3.6/site-packages/sklearn/metrics/classification.py\u001b[0m in \u001b[0;36maccuracy_score\u001b[0;34m(y_true, y_pred, normalize, sample_weight)\u001b[0m\n\u001b[1;32m    174\u001b[0m \u001b[0;34m\u001b[0m\u001b[0m\n\u001b[1;32m    175\u001b[0m     \u001b[0;31m# Compute accuracy for each possible representation\u001b[0m\u001b[0;34m\u001b[0m\u001b[0;34m\u001b[0m\u001b[0m\n\u001b[0;32m--> 176\u001b[0;31m     \u001b[0my_type\u001b[0m\u001b[0;34m,\u001b[0m \u001b[0my_true\u001b[0m\u001b[0;34m,\u001b[0m \u001b[0my_pred\u001b[0m \u001b[0;34m=\u001b[0m \u001b[0m_check_targets\u001b[0m\u001b[0;34m(\u001b[0m\u001b[0my_true\u001b[0m\u001b[0;34m,\u001b[0m \u001b[0my_pred\u001b[0m\u001b[0;34m)\u001b[0m\u001b[0;34m\u001b[0m\u001b[0m\n\u001b[0m\u001b[1;32m    177\u001b[0m     \u001b[0;32mif\u001b[0m \u001b[0my_type\u001b[0m\u001b[0;34m.\u001b[0m\u001b[0mstartswith\u001b[0m\u001b[0;34m(\u001b[0m\u001b[0;34m'multilabel'\u001b[0m\u001b[0;34m)\u001b[0m\u001b[0;34m:\u001b[0m\u001b[0;34m\u001b[0m\u001b[0m\n\u001b[1;32m    178\u001b[0m         \u001b[0mdiffering_labels\u001b[0m \u001b[0;34m=\u001b[0m \u001b[0mcount_nonzero\u001b[0m\u001b[0;34m(\u001b[0m\u001b[0my_true\u001b[0m \u001b[0;34m-\u001b[0m \u001b[0my_pred\u001b[0m\u001b[0;34m,\u001b[0m \u001b[0maxis\u001b[0m\u001b[0;34m=\u001b[0m\u001b[0;36m1\u001b[0m\u001b[0;34m)\u001b[0m\u001b[0;34m\u001b[0m\u001b[0m\n",
      "\u001b[0;32m/anaconda3/lib/python3.6/site-packages/sklearn/metrics/classification.py\u001b[0m in \u001b[0;36m_check_targets\u001b[0;34m(y_true, y_pred)\u001b[0m\n\u001b[1;32m     79\u001b[0m     \u001b[0;32mif\u001b[0m \u001b[0mlen\u001b[0m\u001b[0;34m(\u001b[0m\u001b[0my_type\u001b[0m\u001b[0;34m)\u001b[0m \u001b[0;34m>\u001b[0m \u001b[0;36m1\u001b[0m\u001b[0;34m:\u001b[0m\u001b[0;34m\u001b[0m\u001b[0m\n\u001b[1;32m     80\u001b[0m         raise ValueError(\"Classification metrics can't handle a mix of {0} \"\n\u001b[0;32m---> 81\u001b[0;31m                          \"and {1} targets\".format(type_true, type_pred))\n\u001b[0m\u001b[1;32m     82\u001b[0m \u001b[0;34m\u001b[0m\u001b[0m\n\u001b[1;32m     83\u001b[0m     \u001b[0;31m# We can't have more than one value on y_type => The set is no more needed\u001b[0m\u001b[0;34m\u001b[0m\u001b[0;34m\u001b[0m\u001b[0m\n",
      "\u001b[0;31mValueError\u001b[0m: Classification metrics can't handle a mix of multiclass and continuous targets"
     ]
    }
   ],
   "source": [
    "naive_predictions = [median_medals] * olympia_2016.shape[0]\n",
    "\n",
    "r2_naive = r2_score(olympia_2016['true_medals'], naive_predictions)\n",
    "accuracy_naive = accuracy_score(olympia_2016['true_medals'], naive_predictions)\n",
    "mse_naive = mean_squared_error(olympia_2016['true_medals'], naive_predictions)\n",
    "\n",
    "print(\"Naive R2 (variance explained): %.2f\" % r2_naive)\n",
    "print(\"Naive Accuracy: %.2f\" % accuracy_naive)\n",
    "print(\"Naive MSE: %.2f\" % mse_naive)\n",
    "print(\"Ouch! The accuracy is (by definition of the median) much better! %.2f%%!\" % (accuracy_naive * 100.0))"
   ]
  },
  {
   "cell_type": "markdown",
   "metadata": {},
   "source": [
    "But the MSE is worse and the variance explained is close to 0. So arguably we are predicting better despite missing most predictions."
   ]
  },
  {
   "cell_type": "markdown",
   "metadata": {},
   "source": [
    "### Making the Prediction Better"
   ]
  },
  {
   "cell_type": "markdown",
   "metadata": {},
   "source": [
    "Can we improve our accuracy? We need to select better features! Let's look at those correlations again."
   ]
  },
  {
   "cell_type": "code",
   "execution_count": 16,
   "metadata": {
    "scrolled": true
   },
   "outputs": [
    {
     "data": {
      "text/plain": [
       "medals                      1.000000\n",
       "electricity consumption     0.782745\n",
       "exports                     0.769728\n",
       "internet users              0.751845\n",
       "oil imports                 0.749657\n",
       "geographic area             0.634710\n",
       "pop                         0.415016\n",
       "region                      0.362122\n",
       "host                        0.304442\n",
       "gdp per capita              0.283597\n",
       "population growth rate      0.273188\n",
       "health expenditures         0.242673\n",
       "life expectancy at birth    0.241673\n",
       "gdp_cap                     0.211975\n",
       "continent                   0.203508\n",
       "unemployment rate           0.172209\n",
       "net migration rate          0.088922\n",
       "public debt                 0.062112\n",
       "obesity                     0.056740\n",
       "gross national saving       0.050463\n",
       "gdp growth rate             0.043479\n",
       "inflation rate              0.023262\n",
       "education expenditures      0.019502\n",
       "military expenditures       0.015251\n",
       "year                        0.006990\n",
       "Name: medals, dtype: float64"
      ]
     },
     "execution_count": 16,
     "metadata": {},
     "output_type": "execute_result"
    }
   ],
   "source": [
    "olympia.corr()['medals'].abs().sort_values(ascending=False)"
   ]
  },
  {
   "cell_type": "markdown",
   "metadata": {},
   "source": [
    "Earlier we dismissed the medal count as a feature because it is our dependent variable. But we can still use it. Remember that we are trying to predict the medal count for 2016 only. We can use all previous medal counts as a feature. Let's construct an aggregate medal count from the medals won by a country in previous years. "
   ]
  },
  {
   "cell_type": "code",
   "execution_count": 17,
   "metadata": {},
   "outputs": [
    {
     "data": {
      "text/html": [
       "<div>\n",
       "<style>\n",
       "    .dataframe thead tr:only-child th {\n",
       "        text-align: right;\n",
       "    }\n",
       "\n",
       "    .dataframe thead th {\n",
       "        text-align: left;\n",
       "    }\n",
       "\n",
       "    .dataframe tbody tr th {\n",
       "        vertical-align: top;\n",
       "    }\n",
       "</style>\n",
       "<table border=\"1\" class=\"dataframe\">\n",
       "  <thead>\n",
       "    <tr style=\"text-align: right;\">\n",
       "      <th></th>\n",
       "      <th>medals_median</th>\n",
       "    </tr>\n",
       "    <tr>\n",
       "      <th>country</th>\n",
       "      <th></th>\n",
       "    </tr>\n",
       "  </thead>\n",
       "  <tbody>\n",
       "    <tr>\n",
       "      <th>Azerbaijan</th>\n",
       "      <td>6.0</td>\n",
       "    </tr>\n",
       "    <tr>\n",
       "      <th>Liberia</th>\n",
       "      <td>0.0</td>\n",
       "    </tr>\n",
       "    <tr>\n",
       "      <th>Switzerland</th>\n",
       "      <td>7.0</td>\n",
       "    </tr>\n",
       "    <tr>\n",
       "      <th>Canada</th>\n",
       "      <td>18.0</td>\n",
       "    </tr>\n",
       "    <tr>\n",
       "      <th>Macedonia</th>\n",
       "      <td>0.0</td>\n",
       "    </tr>\n",
       "    <tr>\n",
       "      <th>Czech Republic</th>\n",
       "      <td>8.0</td>\n",
       "    </tr>\n",
       "    <tr>\n",
       "      <th>Lebanon</th>\n",
       "      <td>0.0</td>\n",
       "    </tr>\n",
       "    <tr>\n",
       "      <th>Belgium</th>\n",
       "      <td>3.0</td>\n",
       "    </tr>\n",
       "    <tr>\n",
       "      <th>Kyrgyzstan</th>\n",
       "      <td>0.5</td>\n",
       "    </tr>\n",
       "    <tr>\n",
       "      <th>South Korea</th>\n",
       "      <td>28.0</td>\n",
       "    </tr>\n",
       "  </tbody>\n",
       "</table>\n",
       "</div>"
      ],
      "text/plain": [
       "                medals_median\n",
       "country                      \n",
       "Azerbaijan                6.0\n",
       "Liberia                   0.0\n",
       "Switzerland               7.0\n",
       "Canada                   18.0\n",
       "Macedonia                 0.0\n",
       "Czech Republic            8.0\n",
       "Lebanon                   0.0\n",
       "Belgium                   3.0\n",
       "Kyrgyzstan                0.5\n",
       "South Korea              28.0"
      ]
     },
     "execution_count": 17,
     "metadata": {},
     "output_type": "execute_result"
    }
   ],
   "source": [
    "median_medals_by_country = olympia_pre16.groupby(['country'])[['medals']].median()\n",
    "median_medals_by_country.rename(columns={'medals': 'medals_median'}, inplace=True)\n",
    "\n",
    "median_medals_by_country.sample(10)"
   ]
  },
  {
   "cell_type": "markdown",
   "metadata": {},
   "source": [
    "Let's create a model with our new feature. We can add some of the other high-correlation features as well."
   ]
  },
  {
   "cell_type": "code",
   "execution_count": 45,
   "metadata": {},
   "outputs": [
    {
     "name": "stdout",
     "output_type": "stream",
     "text": [
      "Our new feature has a correlation of 0.98!\n"
     ]
    }
   ],
   "source": [
    "independent_variables2 = ['medals_median', 'exports', 'geographic area', 'region']\n",
    "\n",
    "training_data2 = olympia_pre16[(['year', 'country'] + dependent_variable + independent_variables2[1:])]\n",
    "training_data2 = training_data2.merge(median_medals_by_country, how='left', left_on='country', right_index=True)\n",
    "print(\"Our new feature has a correlation of %.2f!\" % training_data2.corr()['medals']['medals_median'])"
   ]
  },
  {
   "cell_type": "code",
   "execution_count": 46,
   "metadata": {},
   "outputs": [
    {
     "name": "stdout",
     "output_type": "stream",
     "text": [
      "There are 656 records.\n"
     ]
    },
    {
     "data": {
      "text/html": [
       "<div>\n",
       "<style>\n",
       "    .dataframe thead tr:only-child th {\n",
       "        text-align: right;\n",
       "    }\n",
       "\n",
       "    .dataframe thead th {\n",
       "        text-align: left;\n",
       "    }\n",
       "\n",
       "    .dataframe tbody tr th {\n",
       "        vertical-align: top;\n",
       "    }\n",
       "</style>\n",
       "<table border=\"1\" class=\"dataframe\">\n",
       "  <thead>\n",
       "    <tr style=\"text-align: right;\">\n",
       "      <th></th>\n",
       "      <th>year</th>\n",
       "      <th>country</th>\n",
       "      <th>medals</th>\n",
       "      <th>exports</th>\n",
       "      <th>geographic area</th>\n",
       "      <th>region</th>\n",
       "      <th>medals_median</th>\n",
       "    </tr>\n",
       "  </thead>\n",
       "  <tbody>\n",
       "    <tr>\n",
       "      <th>612</th>\n",
       "      <td>2004</td>\n",
       "      <td>Mexico</td>\n",
       "      <td>4</td>\n",
       "      <td>1.650000e+11</td>\n",
       "      <td>1972550.0</td>\n",
       "      <td>6</td>\n",
       "      <td>4.0</td>\n",
       "    </tr>\n",
       "    <tr>\n",
       "      <th>122</th>\n",
       "      <td>2004</td>\n",
       "      <td>Brazil</td>\n",
       "      <td>10</td>\n",
       "      <td>7.328000e+10</td>\n",
       "      <td>8511965.0</td>\n",
       "      <td>6</td>\n",
       "      <td>15.0</td>\n",
       "    </tr>\n",
       "    <tr>\n",
       "      <th>703</th>\n",
       "      <td>2008</td>\n",
       "      <td>Palau</td>\n",
       "      <td>0</td>\n",
       "      <td>5.882000e+06</td>\n",
       "      <td>458.0</td>\n",
       "      <td>3</td>\n",
       "      <td>0.0</td>\n",
       "    </tr>\n",
       "    <tr>\n",
       "      <th>146</th>\n",
       "      <td>2000</td>\n",
       "      <td>Cambodia</td>\n",
       "      <td>0</td>\n",
       "      <td>8.210000e+08</td>\n",
       "      <td>181040.0</td>\n",
       "      <td>3</td>\n",
       "      <td>0.0</td>\n",
       "    </tr>\n",
       "    <tr>\n",
       "      <th>287</th>\n",
       "      <td>2012</td>\n",
       "      <td>El Salvador</td>\n",
       "      <td>0</td>\n",
       "      <td>5.804000e+09</td>\n",
       "      <td>21041.0</td>\n",
       "      <td>6</td>\n",
       "      <td>0.0</td>\n",
       "    </tr>\n",
       "  </tbody>\n",
       "</table>\n",
       "</div>"
      ],
      "text/plain": [
       "     year      country  medals       exports  geographic area  region  \\\n",
       "612  2004       Mexico       4  1.650000e+11        1972550.0       6   \n",
       "122  2004       Brazil      10  7.328000e+10        8511965.0       6   \n",
       "703  2008        Palau       0  5.882000e+06            458.0       3   \n",
       "146  2000     Cambodia       0  8.210000e+08         181040.0       3   \n",
       "287  2012  El Salvador       0  5.804000e+09          21041.0       6   \n",
       "\n",
       "     medals_median  \n",
       "612            4.0  \n",
       "122           15.0  \n",
       "703            0.0  \n",
       "146            0.0  \n",
       "287            0.0  "
      ]
     },
     "execution_count": 46,
     "metadata": {},
     "output_type": "execute_result"
    }
   ],
   "source": [
    "training_data2.dropna(how='any', inplace=True)\n",
    "print(\"There are %d records.\" % training_data2.shape[0])\n",
    "\n",
    "lm2 = LinearRegression()\n",
    "lm2.fit(training_data2[independent_variables2], training_data2[dependent_variable])\n",
    "\n",
    "training_data2.sample(5)"
   ]
  },
  {
   "cell_type": "code",
   "execution_count": 47,
   "metadata": {},
   "outputs": [
    {
     "data": {
      "text/html": [
       "<div>\n",
       "<style>\n",
       "    .dataframe thead tr:only-child th {\n",
       "        text-align: right;\n",
       "    }\n",
       "\n",
       "    .dataframe thead th {\n",
       "        text-align: left;\n",
       "    }\n",
       "\n",
       "    .dataframe tbody tr th {\n",
       "        vertical-align: top;\n",
       "    }\n",
       "</style>\n",
       "<table border=\"1\" class=\"dataframe\">\n",
       "  <thead>\n",
       "    <tr style=\"text-align: right;\">\n",
       "      <th></th>\n",
       "      <th>country</th>\n",
       "      <th>true_medals</th>\n",
       "      <th>exports</th>\n",
       "      <th>geographic area</th>\n",
       "      <th>region</th>\n",
       "      <th>medals_median</th>\n",
       "    </tr>\n",
       "  </thead>\n",
       "  <tbody>\n",
       "    <tr>\n",
       "      <th>0</th>\n",
       "      <td>Afghanistan</td>\n",
       "      <td>0</td>\n",
       "      <td>3.760000e+08</td>\n",
       "      <td>652230.0</td>\n",
       "      <td>3</td>\n",
       "      <td>1.0</td>\n",
       "    </tr>\n",
       "    <tr>\n",
       "      <th>1</th>\n",
       "      <td>Albania</td>\n",
       "      <td>0</td>\n",
       "      <td>2.323000e+09</td>\n",
       "      <td>28748.0</td>\n",
       "      <td>2</td>\n",
       "      <td>0.0</td>\n",
       "    </tr>\n",
       "    <tr>\n",
       "      <th>2</th>\n",
       "      <td>Algeria</td>\n",
       "      <td>2</td>\n",
       "      <td>6.825000e+10</td>\n",
       "      <td>2381741.0</td>\n",
       "      <td>4</td>\n",
       "      <td>2.0</td>\n",
       "    </tr>\n",
       "    <tr>\n",
       "      <th>3</th>\n",
       "      <td>Antigua and Barbuda</td>\n",
       "      <td>0</td>\n",
       "      <td>5.500000e+07</td>\n",
       "      <td>442.6</td>\n",
       "      <td>6</td>\n",
       "      <td>0.0</td>\n",
       "    </tr>\n",
       "    <tr>\n",
       "      <th>4</th>\n",
       "      <td>Armenia</td>\n",
       "      <td>4</td>\n",
       "      <td>1.653000e+09</td>\n",
       "      <td>29743.0</td>\n",
       "      <td>2</td>\n",
       "      <td>2.0</td>\n",
       "    </tr>\n",
       "  </tbody>\n",
       "</table>\n",
       "</div>"
      ],
      "text/plain": [
       "               country  true_medals       exports  geographic area  region  \\\n",
       "0          Afghanistan            0  3.760000e+08         652230.0       3   \n",
       "1              Albania            0  2.323000e+09          28748.0       2   \n",
       "2              Algeria            2  6.825000e+10        2381741.0       4   \n",
       "3  Antigua and Barbuda            0  5.500000e+07            442.6       6   \n",
       "4              Armenia            4  1.653000e+09          29743.0       2   \n",
       "\n",
       "   medals_median  \n",
       "0            1.0  \n",
       "1            0.0  \n",
       "2            2.0  \n",
       "3            0.0  \n",
       "4            2.0  "
      ]
     },
     "execution_count": 47,
     "metadata": {},
     "output_type": "execute_result"
    }
   ],
   "source": [
    "olympia_2016_2 = olympia[olympia['year'] == 2016][['country', 'medals'] + independent_variables2[1:]]\n",
    "olympia_2016_2.rename(columns={'medals': 'true_medals'}, inplace=True)\n",
    "olympia_2016_2.index = range(olympia_2016_2.shape[0])\n",
    "\n",
    "olympia_2016_2 = olympia_2016_2.merge(median_medals_by_country, how='left', left_on='country', right_index=True)\n",
    "olympia_2016_2.head()"
   ]
  },
  {
   "cell_type": "code",
   "execution_count": 48,
   "metadata": {},
   "outputs": [
    {
     "data": {
      "text/html": [
       "<div>\n",
       "<style>\n",
       "    .dataframe thead tr:only-child th {\n",
       "        text-align: right;\n",
       "    }\n",
       "\n",
       "    .dataframe thead th {\n",
       "        text-align: left;\n",
       "    }\n",
       "\n",
       "    .dataframe tbody tr th {\n",
       "        vertical-align: top;\n",
       "    }\n",
       "</style>\n",
       "<table border=\"1\" class=\"dataframe\">\n",
       "  <thead>\n",
       "    <tr style=\"text-align: right;\">\n",
       "      <th></th>\n",
       "      <th>country</th>\n",
       "      <th>true_medals</th>\n",
       "      <th>exports</th>\n",
       "      <th>geographic area</th>\n",
       "      <th>region</th>\n",
       "      <th>medals_median</th>\n",
       "      <th>prediction</th>\n",
       "      <th>prediction_rounded</th>\n",
       "    </tr>\n",
       "  </thead>\n",
       "  <tbody>\n",
       "    <tr>\n",
       "      <th>164</th>\n",
       "      <td>Togo</td>\n",
       "      <td>0</td>\n",
       "      <td>9.822000e+08</td>\n",
       "      <td>56785.0</td>\n",
       "      <td>5</td>\n",
       "      <td>0.0</td>\n",
       "      <td>0.109402</td>\n",
       "      <td>0</td>\n",
       "    </tr>\n",
       "    <tr>\n",
       "      <th>130</th>\n",
       "      <td>Poland</td>\n",
       "      <td>11</td>\n",
       "      <td>2.020000e+11</td>\n",
       "      <td>312685.0</td>\n",
       "      <td>2</td>\n",
       "      <td>10.0</td>\n",
       "      <td>10.861287</td>\n",
       "      <td>11</td>\n",
       "    </tr>\n",
       "    <tr>\n",
       "      <th>93</th>\n",
       "      <td>Liberia</td>\n",
       "      <td>0</td>\n",
       "      <td>9.298000e+08</td>\n",
       "      <td>111369.0</td>\n",
       "      <td>5</td>\n",
       "      <td>0.0</td>\n",
       "      <td>0.108329</td>\n",
       "      <td>0</td>\n",
       "    </tr>\n",
       "    <tr>\n",
       "      <th>4</th>\n",
       "      <td>Armenia</td>\n",
       "      <td>4</td>\n",
       "      <td>1.653000e+09</td>\n",
       "      <td>29743.0</td>\n",
       "      <td>2</td>\n",
       "      <td>2.0</td>\n",
       "      <td>1.651134</td>\n",
       "      <td>2</td>\n",
       "    </tr>\n",
       "    <tr>\n",
       "      <th>129</th>\n",
       "      <td>Philippines</td>\n",
       "      <td>1</td>\n",
       "      <td>4.745000e+10</td>\n",
       "      <td>300000.0</td>\n",
       "      <td>3</td>\n",
       "      <td>0.0</td>\n",
       "      <td>0.179288</td>\n",
       "      <td>0</td>\n",
       "    </tr>\n",
       "    <tr>\n",
       "      <th>131</th>\n",
       "      <td>Portugal</td>\n",
       "      <td>1</td>\n",
       "      <td>6.100000e+10</td>\n",
       "      <td>92090.0</td>\n",
       "      <td>1</td>\n",
       "      <td>2.0</td>\n",
       "      <td>1.951033</td>\n",
       "      <td>2</td>\n",
       "    </tr>\n",
       "    <tr>\n",
       "      <th>112</th>\n",
       "      <td>Morocco</td>\n",
       "      <td>1</td>\n",
       "      <td>1.678000e+10</td>\n",
       "      <td>446550.0</td>\n",
       "      <td>4</td>\n",
       "      <td>2.0</td>\n",
       "      <td>2.023547</td>\n",
       "      <td>2</td>\n",
       "    </tr>\n",
       "    <tr>\n",
       "      <th>132</th>\n",
       "      <td>Puerto Rico</td>\n",
       "      <td>1</td>\n",
       "      <td>6.975000e+10</td>\n",
       "      <td>13790.0</td>\n",
       "      <td>6</td>\n",
       "      <td>0.0</td>\n",
       "      <td>0.746560</td>\n",
       "      <td>1</td>\n",
       "    </tr>\n",
       "    <tr>\n",
       "      <th>55</th>\n",
       "      <td>Fiji</td>\n",
       "      <td>1</td>\n",
       "      <td>1.026000e+06</td>\n",
       "      <td>18274.0</td>\n",
       "      <td>3</td>\n",
       "      <td>0.0</td>\n",
       "      <td>-0.164296</td>\n",
       "      <td>0</td>\n",
       "    </tr>\n",
       "    <tr>\n",
       "      <th>56</th>\n",
       "      <td>Finland</td>\n",
       "      <td>1</td>\n",
       "      <td>7.570000e+10</td>\n",
       "      <td>338145.0</td>\n",
       "      <td>1</td>\n",
       "      <td>4.0</td>\n",
       "      <td>3.992464</td>\n",
       "      <td>4</td>\n",
       "    </tr>\n",
       "  </tbody>\n",
       "</table>\n",
       "</div>"
      ],
      "text/plain": [
       "         country  true_medals       exports  geographic area  region  \\\n",
       "164         Togo            0  9.822000e+08          56785.0       5   \n",
       "130       Poland           11  2.020000e+11         312685.0       2   \n",
       "93       Liberia            0  9.298000e+08         111369.0       5   \n",
       "4        Armenia            4  1.653000e+09          29743.0       2   \n",
       "129  Philippines            1  4.745000e+10         300000.0       3   \n",
       "131     Portugal            1  6.100000e+10          92090.0       1   \n",
       "112      Morocco            1  1.678000e+10         446550.0       4   \n",
       "132  Puerto Rico            1  6.975000e+10          13790.0       6   \n",
       "55          Fiji            1  1.026000e+06          18274.0       3   \n",
       "56       Finland            1  7.570000e+10         338145.0       1   \n",
       "\n",
       "     medals_median  prediction  prediction_rounded  \n",
       "164            0.0    0.109402                   0  \n",
       "130           10.0   10.861287                  11  \n",
       "93             0.0    0.108329                   0  \n",
       "4              2.0    1.651134                   2  \n",
       "129            0.0    0.179288                   0  \n",
       "131            2.0    1.951033                   2  \n",
       "112            2.0    2.023547                   2  \n",
       "132            0.0    0.746560                   1  \n",
       "55             0.0   -0.164296                   0  \n",
       "56             4.0    3.992464                   4  "
      ]
     },
     "execution_count": 48,
     "metadata": {},
     "output_type": "execute_result"
    }
   ],
   "source": [
    "feature_medians2 = olympia_2016_2[independent_variables2].median().to_dict()\n",
    "\n",
    "olympia_2016_2['prediction'] = lm2.predict(olympia_2016_2[independent_variables2].fillna(feature_medians2))\n",
    "olympia_2016_2['prediction_rounded'] = [int(round(c)) for c in olympia_2016_2['prediction']]\n",
    "\n",
    "olympia_2016_2.sample(10)"
   ]
  },
  {
   "cell_type": "code",
   "execution_count": 49,
   "metadata": {},
   "outputs": [
    {
     "name": "stdout",
     "output_type": "stream",
     "text": [
      "Linear Regression R2 (variance explained): 0.85\n",
      "Linear Regression Accuracy: 0.54\n",
      "Linear Regression MSE: 28.50\n",
      "We predicted only 54% correctly!\n"
     ]
    }
   ],
   "source": [
    "lm2_r_squared = lm2.score(olympia_2016_2[independent_variables2].fillna(feature_medians2), olympia_2016_2['true_medals'])\n",
    "lm2_accuracy = accuracy_score(olympia_2016_2['true_medals'], olympia_2016_2['prediction_rounded'])\n",
    "lm2_mse = mean_squared_error(olympia_2016_2['true_medals'], olympia_2016_2['prediction_rounded'])\n",
    "\n",
    "print(\"Linear Regression R2 (variance explained): %.2f\" % lm2_r_squared)\n",
    "print(\"Linear Regression Accuracy: %.2f\" % lm2_accuracy)\n",
    "print(\"Linear Regression MSE: %.2f\" % lm2_mse)\n",
    "print(\"We predicted only %.0f%% correctly!\" % (lm2_accuracy * 100.0))"
   ]
  },
  {
   "cell_type": "markdown",
   "metadata": {},
   "source": [
    "The accuracy is about as good as the naive classifier but the varaince explained is much better and the MSE much lower. Success!"
   ]
  },
  {
   "cell_type": "code",
   "execution_count": 50,
   "metadata": {},
   "outputs": [
    {
     "data": {
      "text/plain": [
       "Text(0,0.5,'prediction')"
      ]
     },
     "execution_count": 50,
     "metadata": {},
     "output_type": "execute_result"
    },
    {
     "data": {
      "image/png": "[encoded data removed]",
      "text/plain": [
       "<matplotlib.figure.Figure at 0x11086ef98>"
      ]
     },
     "metadata": {},
     "output_type": "display_data"
    }
   ],
   "source": [
    "plt.scatter(olympia_2016_2['true_medals'], olympia_2016_2['prediction'])\n",
    "plt.xlabel('true medals')\n",
    "plt.ylabel('prediction')"
   ]
  }
 ],
 "metadata": {
  "kernelspec": {
   "display_name": "Python 3",
   "language": "python",
   "name": "python3"
  },
  "language_info": {
   "codemirror_mode": {
    "name": "ipython",
    "version": 3
   },
   "file_extension": ".py",
   "mimetype": "text/x-python",
   "name": "python",
   "nbconvert_exporter": "python",
   "pygments_lexer": "ipython3",
   "version": "3.6.4"
  }
 },
 "nbformat": 4,
 "nbformat_minor": 1
}
