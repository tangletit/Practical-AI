{
 "cells": [
  {
   "cell_type": "markdown",
   "metadata": {},
   "source": [
    "# Simple Prediction"
   ]
  },
  {
   "cell_type": "code",
   "execution_count": 2,
   "metadata": {},
   "outputs": [],
   "source": [
    "import matplotlib\n",
    "import matplotlib.pyplot as plt\n",
    "%matplotlib inline\n",
    "import pandas as pd\n",
    "import warnings\n",
    "warnings.filterwarnings('ignore')"
   ]
  },
  {
   "cell_type": "markdown",
   "metadata": {},
   "source": [
    "Read the data."
   ]
  },
  {
   "cell_type": "code",
   "execution_count": 3,
   "metadata": {},
   "outputs": [],
   "source": [
    "olympia = pd.read_csv(\"olympia.csv\")"
   ]
  },
  {
   "cell_type": "markdown",
   "metadata": {},
   "source": [
    "Let's pretend that the 2016 olympics did not happen yet. We remove its records them from the dataset. Later, we will predict its results."
   ]
  },
  {
   "cell_type": "code",
   "execution_count": 4,
   "metadata": {},
   "outputs": [],
   "source": [
    "olympia_pre16 = olympia[olympia[\"year\"] < 2016]"
   ]
  },
  {
   "cell_type": "markdown",
   "metadata": {},
   "source": [
    "Let's looks for interesting columns that correlate with the medal count."
   ]
  },
  {
   "cell_type": "code",
   "execution_count": 5,
   "metadata": {},
   "outputs": [
    {
     "data": {
      "text/plain": [
       "medals                      1.000000\n",
       "electricity consumption     0.782745\n",
       "exports                     0.769728\n",
       "internet users              0.751845\n",
       "oil imports                 0.749657\n",
       "geographic area             0.634710\n",
       "pop                         0.415016\n",
       "region                      0.362122\n",
       "host                        0.304442\n",
       "gdp per capita              0.283597\n",
       "population growth rate      0.273188\n",
       "health expenditures         0.242673\n",
       "life expectancy at birth    0.241673\n",
       "gdp_cap                     0.211975\n",
       "continent                   0.203508\n",
       "unemployment rate           0.172209\n",
       "net migration rate          0.088922\n",
       "public debt                 0.062112\n",
       "obesity                     0.056740\n",
       "gross national saving       0.050463\n",
       "gdp growth rate             0.043479\n",
       "inflation rate              0.023262\n",
       "education expenditures      0.019502\n",
       "military expenditures       0.015251\n",
       "year                        0.006990\n",
       "Name: medals, dtype: float64"
      ]
     },
     "execution_count": 5,
     "metadata": {},
     "output_type": "execute_result"
    }
   ],
   "source": [
    "olympia.corr()['medals'].abs().sort_values(ascending=False)"
   ]
  },
  {
   "cell_type": "markdown",
   "metadata": {},
   "source": [
    "Obviously 'medal' correlates perfectly but it is the value we try to predict so we can not use it.\n",
    "\n",
    "Let's see what happens when we (naively) select the features (or independent variables) 'electricity consumption', 'exports', 'internet users', and 'oil imports'."
   ]
  },
  {
   "cell_type": "code",
   "execution_count": 6,
   "metadata": {},
   "outputs": [
    {
     "name": "stdout",
     "output_type": "stream",
     "text": [
      "There are 857 records.\n"
     ]
    },
    {
     "data": {
      "text/html": [
       "<div>\n",
       "<style scoped>\n",
       "    .dataframe tbody tr th:only-of-type {\n",
       "        vertical-align: middle;\n",
       "    }\n",
       "\n",
       "    .dataframe tbody tr th {\n",
       "        vertical-align: top;\n",
       "    }\n",
       "\n",
       "    .dataframe thead th {\n",
       "        text-align: right;\n",
       "    }\n",
       "</style>\n",
       "<table border=\"1\" class=\"dataframe\">\n",
       "  <thead>\n",
       "    <tr style=\"text-align: right;\">\n",
       "      <th></th>\n",
       "      <th>year</th>\n",
       "      <th>country</th>\n",
       "      <th>medals</th>\n",
       "      <th>electricity consumption</th>\n",
       "      <th>exports</th>\n",
       "      <th>internet users</th>\n",
       "      <th>oil imports</th>\n",
       "    </tr>\n",
       "  </thead>\n",
       "  <tbody>\n",
       "    <tr>\n",
       "      <th>0</th>\n",
       "      <td>2008</td>\n",
       "      <td>Afghanistan</td>\n",
       "      <td>1</td>\n",
       "      <td>1.088000e+09</td>\n",
       "      <td>274000000.0</td>\n",
       "      <td>580000.0</td>\n",
       "      <td>4534.0</td>\n",
       "    </tr>\n",
       "    <tr>\n",
       "      <th>1</th>\n",
       "      <td>2012</td>\n",
       "      <td>Afghanistan</td>\n",
       "      <td>1</td>\n",
       "      <td>2.226000e+09</td>\n",
       "      <td>376000000.0</td>\n",
       "      <td>1000000.0</td>\n",
       "      <td>NaN</td>\n",
       "    </tr>\n",
       "    <tr>\n",
       "      <th>3</th>\n",
       "      <td>1996</td>\n",
       "      <td>Albania</td>\n",
       "      <td>0</td>\n",
       "      <td>NaN</td>\n",
       "      <td>NaN</td>\n",
       "      <td>NaN</td>\n",
       "      <td>NaN</td>\n",
       "    </tr>\n",
       "    <tr>\n",
       "      <th>4</th>\n",
       "      <td>2000</td>\n",
       "      <td>Albania</td>\n",
       "      <td>0</td>\n",
       "      <td>5.290000e+09</td>\n",
       "      <td>242000000.0</td>\n",
       "      <td>NaN</td>\n",
       "      <td>NaN</td>\n",
       "    </tr>\n",
       "    <tr>\n",
       "      <th>5</th>\n",
       "      <td>2004</td>\n",
       "      <td>Albania</td>\n",
       "      <td>0</td>\n",
       "      <td>5.898000e+09</td>\n",
       "      <td>425000000.0</td>\n",
       "      <td>30000.0</td>\n",
       "      <td>NaN</td>\n",
       "    </tr>\n",
       "  </tbody>\n",
       "</table>\n",
       "</div>"
      ],
      "text/plain": [
       "   year      country  medals  electricity consumption      exports  \\\n",
       "0  2008  Afghanistan       1             1.088000e+09  274000000.0   \n",
       "1  2012  Afghanistan       1             2.226000e+09  376000000.0   \n",
       "3  1996      Albania       0                      NaN          NaN   \n",
       "4  2000      Albania       0             5.290000e+09  242000000.0   \n",
       "5  2004      Albania       0             5.898000e+09  425000000.0   \n",
       "\n",
       "   internet users  oil imports  \n",
       "0        580000.0       4534.0  \n",
       "1       1000000.0          NaN  \n",
       "3             NaN          NaN  \n",
       "4             NaN          NaN  \n",
       "5         30000.0          NaN  "
      ]
     },
     "execution_count": 6,
     "metadata": {},
     "output_type": "execute_result"
    }
   ],
   "source": [
    "dependent_variable = ['medals'] #what we want to predict\n",
    "independent_variables = ['electricity consumption', 'exports', 'internet users', 'oil imports'] #what we use to make a prediction\n",
    "training_data = olympia_pre16[(['year', 'country'] + dependent_variable + independent_variables)]\n",
    "print(\"There are %d records.\" % training_data.shape[0])\n",
    "training_data.head()"
   ]
  },
  {
   "cell_type": "markdown",
   "metadata": {},
   "source": [
    "We need to do something with the missing values. Let's see what happens if we drop them. "
   ]
  },
  {
   "cell_type": "code",
   "execution_count": 7,
   "metadata": {},
   "outputs": [
    {
     "name": "stdout",
     "output_type": "stream",
     "text": [
      "There are 277 records.\n"
     ]
    }
   ],
   "source": [
    "training_data.dropna(how='any', inplace=True)\n",
    "print(\"There are {0} records.\".format(training_data.shape[0]))"
   ]
  },
  {
   "cell_type": "markdown",
   "metadata": {},
   "source": [
    "Ok, time to train a LinearRegression model."
   ]
  },
  {
   "cell_type": "code",
   "execution_count": 8,
   "metadata": {},
   "outputs": [
    {
     "data": {
      "text/plain": [
       "array([2.38761713])"
      ]
     },
     "execution_count": 8,
     "metadata": {},
     "output_type": "execute_result"
    }
   ],
   "source": [
    "from sklearn.linear_model import LinearRegression\n",
    "lm = LinearRegression()\n",
    "\n",
    "lm.fit(training_data[independent_variables], training_data[dependent_variable])\n",
    "lm.coef_\n",
    "lm.intercept_"
   ]
  },
  {
   "cell_type": "markdown",
   "metadata": {},
   "source": [
    "Let's create a dataframe for the results."
   ]
  },
  {
   "cell_type": "code",
   "execution_count": 9,
   "metadata": {},
   "outputs": [
    {
     "data": {
      "text/html": [
       "<div>\n",
       "<style scoped>\n",
       "    .dataframe tbody tr th:only-of-type {\n",
       "        vertical-align: middle;\n",
       "    }\n",
       "\n",
       "    .dataframe tbody tr th {\n",
       "        vertical-align: top;\n",
       "    }\n",
       "\n",
       "    .dataframe thead th {\n",
       "        text-align: right;\n",
       "    }\n",
       "</style>\n",
       "<table border=\"1\" class=\"dataframe\">\n",
       "  <thead>\n",
       "    <tr style=\"text-align: right;\">\n",
       "      <th></th>\n",
       "      <th>country</th>\n",
       "      <th>true_medals</th>\n",
       "      <th>electricity consumption</th>\n",
       "      <th>exports</th>\n",
       "      <th>internet users</th>\n",
       "      <th>oil imports</th>\n",
       "    </tr>\n",
       "  </thead>\n",
       "  <tbody>\n",
       "    <tr>\n",
       "      <th>2</th>\n",
       "      <td>Afghanistan</td>\n",
       "      <td>0</td>\n",
       "      <td>2.489000e+09</td>\n",
       "      <td>3.760000e+08</td>\n",
       "      <td>1000000.0</td>\n",
       "      <td>NaN</td>\n",
       "    </tr>\n",
       "    <tr>\n",
       "      <th>8</th>\n",
       "      <td>Albania</td>\n",
       "      <td>0</td>\n",
       "      <td>4.551000e+09</td>\n",
       "      <td>2.323000e+09</td>\n",
       "      <td>1300000.0</td>\n",
       "      <td>NaN</td>\n",
       "    </tr>\n",
       "    <tr>\n",
       "      <th>14</th>\n",
       "      <td>Algeria</td>\n",
       "      <td>2</td>\n",
       "      <td>3.368000e+10</td>\n",
       "      <td>6.825000e+10</td>\n",
       "      <td>4700000.0</td>\n",
       "      <td>6400.0</td>\n",
       "    </tr>\n",
       "    <tr>\n",
       "      <th>20</th>\n",
       "      <td>Antigua and Barbuda</td>\n",
       "      <td>0</td>\n",
       "      <td>1.070000e+08</td>\n",
       "      <td>5.500000e+07</td>\n",
       "      <td>65000.0</td>\n",
       "      <td>NaN</td>\n",
       "    </tr>\n",
       "    <tr>\n",
       "      <th>25</th>\n",
       "      <td>Armenia</td>\n",
       "      <td>4</td>\n",
       "      <td>5.800000e+09</td>\n",
       "      <td>1.653000e+09</td>\n",
       "      <td>208200.0</td>\n",
       "      <td>NaN</td>\n",
       "    </tr>\n",
       "  </tbody>\n",
       "</table>\n",
       "</div>"
      ],
      "text/plain": [
       "                country  true_medals  electricity consumption       exports  \\\n",
       "2           Afghanistan            0             2.489000e+09  3.760000e+08   \n",
       "8               Albania            0             4.551000e+09  2.323000e+09   \n",
       "14              Algeria            2             3.368000e+10  6.825000e+10   \n",
       "20  Antigua and Barbuda            0             1.070000e+08  5.500000e+07   \n",
       "25              Armenia            4             5.800000e+09  1.653000e+09   \n",
       "\n",
       "    internet users  oil imports  \n",
       "2        1000000.0          NaN  \n",
       "8        1300000.0          NaN  \n",
       "14       4700000.0       6400.0  \n",
       "20         65000.0          NaN  \n",
       "25        208200.0          NaN  "
      ]
     },
     "execution_count": 9,
     "metadata": {},
     "output_type": "execute_result"
    }
   ],
   "source": [
    "olympia_2016 = olympia[olympia['year'] == 2016][['country', 'medals'] + independent_variables]\n",
    "olympia_2016.rename(columns={'medals': 'true_medals'}, inplace=True)\n",
    "olympia_2016.head()"
   ]
  },
  {
   "cell_type": "code",
   "execution_count": 10,
   "metadata": {},
   "outputs": [
    {
     "data": {
      "text/html": [
       "<div>\n",
       "<style scoped>\n",
       "    .dataframe tbody tr th:only-of-type {\n",
       "        vertical-align: middle;\n",
       "    }\n",
       "\n",
       "    .dataframe tbody tr th {\n",
       "        vertical-align: top;\n",
       "    }\n",
       "\n",
       "    .dataframe thead th {\n",
       "        text-align: right;\n",
       "    }\n",
       "</style>\n",
       "<table border=\"1\" class=\"dataframe\">\n",
       "  <thead>\n",
       "    <tr style=\"text-align: right;\">\n",
       "      <th></th>\n",
       "      <th>country</th>\n",
       "      <th>true_medals</th>\n",
       "      <th>electricity consumption</th>\n",
       "      <th>exports</th>\n",
       "      <th>internet users</th>\n",
       "      <th>oil imports</th>\n",
       "    </tr>\n",
       "  </thead>\n",
       "  <tbody>\n",
       "    <tr>\n",
       "      <th>0</th>\n",
       "      <td>Afghanistan</td>\n",
       "      <td>0</td>\n",
       "      <td>2.489000e+09</td>\n",
       "      <td>3.760000e+08</td>\n",
       "      <td>1000000.0</td>\n",
       "      <td>NaN</td>\n",
       "    </tr>\n",
       "    <tr>\n",
       "      <th>1</th>\n",
       "      <td>Albania</td>\n",
       "      <td>0</td>\n",
       "      <td>4.551000e+09</td>\n",
       "      <td>2.323000e+09</td>\n",
       "      <td>1300000.0</td>\n",
       "      <td>NaN</td>\n",
       "    </tr>\n",
       "    <tr>\n",
       "      <th>2</th>\n",
       "      <td>Algeria</td>\n",
       "      <td>2</td>\n",
       "      <td>3.368000e+10</td>\n",
       "      <td>6.825000e+10</td>\n",
       "      <td>4700000.0</td>\n",
       "      <td>6400.0</td>\n",
       "    </tr>\n",
       "    <tr>\n",
       "      <th>3</th>\n",
       "      <td>Antigua and Barbuda</td>\n",
       "      <td>0</td>\n",
       "      <td>1.070000e+08</td>\n",
       "      <td>5.500000e+07</td>\n",
       "      <td>65000.0</td>\n",
       "      <td>NaN</td>\n",
       "    </tr>\n",
       "    <tr>\n",
       "      <th>4</th>\n",
       "      <td>Armenia</td>\n",
       "      <td>4</td>\n",
       "      <td>5.800000e+09</td>\n",
       "      <td>1.653000e+09</td>\n",
       "      <td>208200.0</td>\n",
       "      <td>NaN</td>\n",
       "    </tr>\n",
       "  </tbody>\n",
       "</table>\n",
       "</div>"
      ],
      "text/plain": [
       "               country  true_medals  electricity consumption       exports  \\\n",
       "0          Afghanistan            0             2.489000e+09  3.760000e+08   \n",
       "1              Albania            0             4.551000e+09  2.323000e+09   \n",
       "2              Algeria            2             3.368000e+10  6.825000e+10   \n",
       "3  Antigua and Barbuda            0             1.070000e+08  5.500000e+07   \n",
       "4              Armenia            4             5.800000e+09  1.653000e+09   \n",
       "\n",
       "   internet users  oil imports  \n",
       "0       1000000.0          NaN  \n",
       "1       1300000.0          NaN  \n",
       "2       4700000.0       6400.0  \n",
       "3         65000.0          NaN  \n",
       "4        208200.0          NaN  "
      ]
     },
     "execution_count": 10,
     "metadata": {},
     "output_type": "execute_result"
    }
   ],
   "source": [
    "olympia_2016.index = range(olympia_2016.shape[0])\n",
    "olympia_2016.head()"
   ]
  },
  {
   "cell_type": "markdown",
   "metadata": {},
   "source": [
    "Let's predict the 2016 medal count using our model. Again we need to deal with missing values. Let's use the median value when it's missing. "
   ]
  },
  {
   "cell_type": "code",
   "execution_count": 11,
   "metadata": {},
   "outputs": [
    {
     "data": {
      "text/html": [
       "<div>\n",
       "<style scoped>\n",
       "    .dataframe tbody tr th:only-of-type {\n",
       "        vertical-align: middle;\n",
       "    }\n",
       "\n",
       "    .dataframe tbody tr th {\n",
       "        vertical-align: top;\n",
       "    }\n",
       "\n",
       "    .dataframe thead th {\n",
       "        text-align: right;\n",
       "    }\n",
       "</style>\n",
       "<table border=\"1\" class=\"dataframe\">\n",
       "  <thead>\n",
       "    <tr style=\"text-align: right;\">\n",
       "      <th></th>\n",
       "      <th>country</th>\n",
       "      <th>true_medals</th>\n",
       "      <th>electricity consumption</th>\n",
       "      <th>exports</th>\n",
       "      <th>internet users</th>\n",
       "      <th>oil imports</th>\n",
       "      <th>prediction</th>\n",
       "    </tr>\n",
       "  </thead>\n",
       "  <tbody>\n",
       "    <tr>\n",
       "      <th>0</th>\n",
       "      <td>Afghanistan</td>\n",
       "      <td>0</td>\n",
       "      <td>2.489000e+09</td>\n",
       "      <td>3.760000e+08</td>\n",
       "      <td>1000000.0</td>\n",
       "      <td>NaN</td>\n",
       "      <td>2.394506</td>\n",
       "    </tr>\n",
       "    <tr>\n",
       "      <th>1</th>\n",
       "      <td>Albania</td>\n",
       "      <td>0</td>\n",
       "      <td>4.551000e+09</td>\n",
       "      <td>2.323000e+09</td>\n",
       "      <td>1300000.0</td>\n",
       "      <td>NaN</td>\n",
       "      <td>2.453715</td>\n",
       "    </tr>\n",
       "    <tr>\n",
       "      <th>2</th>\n",
       "      <td>Algeria</td>\n",
       "      <td>2</td>\n",
       "      <td>3.368000e+10</td>\n",
       "      <td>6.825000e+10</td>\n",
       "      <td>4700000.0</td>\n",
       "      <td>6400.0</td>\n",
       "      <td>4.548191</td>\n",
       "    </tr>\n",
       "    <tr>\n",
       "      <th>3</th>\n",
       "      <td>Antigua and Barbuda</td>\n",
       "      <td>0</td>\n",
       "      <td>1.070000e+08</td>\n",
       "      <td>5.500000e+07</td>\n",
       "      <td>65000.0</td>\n",
       "      <td>NaN</td>\n",
       "      <td>2.495798</td>\n",
       "    </tr>\n",
       "    <tr>\n",
       "      <th>4</th>\n",
       "      <td>Armenia</td>\n",
       "      <td>4</td>\n",
       "      <td>5.800000e+09</td>\n",
       "      <td>1.653000e+09</td>\n",
       "      <td>208200.0</td>\n",
       "      <td>NaN</td>\n",
       "      <td>2.666667</td>\n",
       "    </tr>\n",
       "  </tbody>\n",
       "</table>\n",
       "</div>"
      ],
      "text/plain": [
       "               country  true_medals  electricity consumption       exports  \\\n",
       "0          Afghanistan            0             2.489000e+09  3.760000e+08   \n",
       "1              Albania            0             4.551000e+09  2.323000e+09   \n",
       "2              Algeria            2             3.368000e+10  6.825000e+10   \n",
       "3  Antigua and Barbuda            0             1.070000e+08  5.500000e+07   \n",
       "4              Armenia            4             5.800000e+09  1.653000e+09   \n",
       "\n",
       "   internet users  oil imports  prediction  \n",
       "0       1000000.0          NaN    2.394506  \n",
       "1       1300000.0          NaN    2.453715  \n",
       "2       4700000.0       6400.0    4.548191  \n",
       "3         65000.0          NaN    2.495798  \n",
       "4        208200.0          NaN    2.666667  "
      ]
     },
     "execution_count": 11,
     "metadata": {},
     "output_type": "execute_result"
    }
   ],
   "source": [
    "feature_medians = olympia_2016[independent_variables].median().to_dict()\n",
    "olympia_2016['prediction'] = lm.predict(olympia_2016[independent_variables].fillna(feature_medians))\n",
    "olympia_2016.head()"
   ]
  },
  {
   "cell_type": "markdown",
   "metadata": {},
   "source": [
    "The prediction is a floating point number but we need integer counts."
   ]
  },
  {
   "cell_type": "code",
   "execution_count": 12,
   "metadata": {},
   "outputs": [
    {
     "data": {
      "text/html": [
       "<div>\n",
       "<style scoped>\n",
       "    .dataframe tbody tr th:only-of-type {\n",
       "        vertical-align: middle;\n",
       "    }\n",
       "\n",
       "    .dataframe tbody tr th {\n",
       "        vertical-align: top;\n",
       "    }\n",
       "\n",
       "    .dataframe thead th {\n",
       "        text-align: right;\n",
       "    }\n",
       "</style>\n",
       "<table border=\"1\" class=\"dataframe\">\n",
       "  <thead>\n",
       "    <tr style=\"text-align: right;\">\n",
       "      <th></th>\n",
       "      <th>country</th>\n",
       "      <th>true_medals</th>\n",
       "      <th>electricity consumption</th>\n",
       "      <th>exports</th>\n",
       "      <th>internet users</th>\n",
       "      <th>oil imports</th>\n",
       "      <th>prediction</th>\n",
       "      <th>prediction_rounded</th>\n",
       "    </tr>\n",
       "  </thead>\n",
       "  <tbody>\n",
       "    <tr>\n",
       "      <th>0</th>\n",
       "      <td>Afghanistan</td>\n",
       "      <td>0</td>\n",
       "      <td>2.489000e+09</td>\n",
       "      <td>3.760000e+08</td>\n",
       "      <td>1000000.0</td>\n",
       "      <td>NaN</td>\n",
       "      <td>2.394506</td>\n",
       "      <td>2</td>\n",
       "    </tr>\n",
       "    <tr>\n",
       "      <th>1</th>\n",
       "      <td>Albania</td>\n",
       "      <td>0</td>\n",
       "      <td>4.551000e+09</td>\n",
       "      <td>2.323000e+09</td>\n",
       "      <td>1300000.0</td>\n",
       "      <td>NaN</td>\n",
       "      <td>2.453715</td>\n",
       "      <td>2</td>\n",
       "    </tr>\n",
       "    <tr>\n",
       "      <th>2</th>\n",
       "      <td>Algeria</td>\n",
       "      <td>2</td>\n",
       "      <td>3.368000e+10</td>\n",
       "      <td>6.825000e+10</td>\n",
       "      <td>4700000.0</td>\n",
       "      <td>6400.0</td>\n",
       "      <td>4.548191</td>\n",
       "      <td>5</td>\n",
       "    </tr>\n",
       "    <tr>\n",
       "      <th>3</th>\n",
       "      <td>Antigua and Barbuda</td>\n",
       "      <td>0</td>\n",
       "      <td>1.070000e+08</td>\n",
       "      <td>5.500000e+07</td>\n",
       "      <td>65000.0</td>\n",
       "      <td>NaN</td>\n",
       "      <td>2.495798</td>\n",
       "      <td>2</td>\n",
       "    </tr>\n",
       "    <tr>\n",
       "      <th>4</th>\n",
       "      <td>Armenia</td>\n",
       "      <td>4</td>\n",
       "      <td>5.800000e+09</td>\n",
       "      <td>1.653000e+09</td>\n",
       "      <td>208200.0</td>\n",
       "      <td>NaN</td>\n",
       "      <td>2.666667</td>\n",
       "      <td>3</td>\n",
       "    </tr>\n",
       "    <tr>\n",
       "      <th>5</th>\n",
       "      <td>Australia</td>\n",
       "      <td>29</td>\n",
       "      <td>2.140000e+11</td>\n",
       "      <td>2.520000e+11</td>\n",
       "      <td>15810000.0</td>\n",
       "      <td>475900.0</td>\n",
       "      <td>13.360439</td>\n",
       "      <td>13</td>\n",
       "    </tr>\n",
       "    <tr>\n",
       "      <th>6</th>\n",
       "      <td>Austria</td>\n",
       "      <td>0</td>\n",
       "      <td>6.380000e+10</td>\n",
       "      <td>1.660000e+11</td>\n",
       "      <td>6143000.0</td>\n",
       "      <td>139000.0</td>\n",
       "      <td>8.261363</td>\n",
       "      <td>8</td>\n",
       "    </tr>\n",
       "    <tr>\n",
       "      <th>7</th>\n",
       "      <td>Azerbaijan</td>\n",
       "      <td>18</td>\n",
       "      <td>2.029000e+10</td>\n",
       "      <td>3.446000e+10</td>\n",
       "      <td>2420000.0</td>\n",
       "      <td>NaN</td>\n",
       "      <td>3.667449</td>\n",
       "      <td>4</td>\n",
       "    </tr>\n",
       "    <tr>\n",
       "      <th>8</th>\n",
       "      <td>Bahamas</td>\n",
       "      <td>2</td>\n",
       "      <td>1.795000e+09</td>\n",
       "      <td>9.600000e+08</td>\n",
       "      <td>115800.0</td>\n",
       "      <td>NaN</td>\n",
       "      <td>2.558534</td>\n",
       "      <td>3</td>\n",
       "    </tr>\n",
       "    <tr>\n",
       "      <th>9</th>\n",
       "      <td>Bahrain</td>\n",
       "      <td>2</td>\n",
       "      <td>1.297000e+10</td>\n",
       "      <td>2.069000e+10</td>\n",
       "      <td>419500.0</td>\n",
       "      <td>256000.0</td>\n",
       "      <td>3.522640</td>\n",
       "      <td>4</td>\n",
       "    </tr>\n",
       "  </tbody>\n",
       "</table>\n",
       "</div>"
      ],
      "text/plain": [
       "               country  true_medals  electricity consumption       exports  \\\n",
       "0          Afghanistan            0             2.489000e+09  3.760000e+08   \n",
       "1              Albania            0             4.551000e+09  2.323000e+09   \n",
       "2              Algeria            2             3.368000e+10  6.825000e+10   \n",
       "3  Antigua and Barbuda            0             1.070000e+08  5.500000e+07   \n",
       "4              Armenia            4             5.800000e+09  1.653000e+09   \n",
       "5            Australia           29             2.140000e+11  2.520000e+11   \n",
       "6              Austria            0             6.380000e+10  1.660000e+11   \n",
       "7           Azerbaijan           18             2.029000e+10  3.446000e+10   \n",
       "8              Bahamas            2             1.795000e+09  9.600000e+08   \n",
       "9              Bahrain            2             1.297000e+10  2.069000e+10   \n",
       "\n",
       "   internet users  oil imports  prediction  prediction_rounded  \n",
       "0       1000000.0          NaN    2.394506                   2  \n",
       "1       1300000.0          NaN    2.453715                   2  \n",
       "2       4700000.0       6400.0    4.548191                   5  \n",
       "3         65000.0          NaN    2.495798                   2  \n",
       "4        208200.0          NaN    2.666667                   3  \n",
       "5      15810000.0     475900.0   13.360439                  13  \n",
       "6       6143000.0     139000.0    8.261363                   8  \n",
       "7       2420000.0          NaN    3.667449                   4  \n",
       "8        115800.0          NaN    2.558534                   3  \n",
       "9        419500.0     256000.0    3.522640                   4  "
      ]
     },
     "execution_count": 12,
     "metadata": {},
     "output_type": "execute_result"
    }
   ],
   "source": [
    "olympia_2016['prediction_rounded'] = [int(round(c)) for c in olympia_2016['prediction']]\n",
    "olympia_2016.head(10)"
   ]
  },
  {
   "cell_type": "markdown",
   "metadata": {},
   "source": [
    "Doesn't look perfect. Let's measure our performance."
   ]
  },
  {
   "cell_type": "code",
   "execution_count": 13,
   "metadata": {},
   "outputs": [
    {
     "name": "stdout",
     "output_type": "stream",
     "text": [
      "Linear Regression R2 (variance explained): 0.63\n",
      "Linear Regression Accuracy: 0.02\n",
      "Linear Regression MSE: 70.48\n",
      "We predicted only 2% correctly!\n"
     ]
    }
   ],
   "source": [
    "from sklearn.metrics import accuracy_score, mean_squared_error, r2_score\n",
    "\n",
    "lm1_r_squared = lm.score(olympia_2016[independent_variables].fillna(feature_medians), olympia_2016['true_medals'])\n",
    "lm1_accuracy = accuracy_score(olympia_2016['true_medals'], olympia_2016['prediction_rounded'])\n",
    "lm1_mse = mean_squared_error(olympia_2016['true_medals'], olympia_2016['prediction_rounded'])\n",
    "\n",
    "print(\"Linear Regression R2 (variance explained): %.2f\" % lm1_r_squared)\n",
    "print(\"Linear Regression Accuracy: %.2f\" % lm1_accuracy)\n",
    "print(\"Linear Regression MSE: %.2f\" % lm1_mse)\n",
    "print(\"We predicted only {0}% correctly!\".format(int(lm1_accuracy * 100.0)))"
   ]
  },
  {
   "cell_type": "markdown",
   "metadata": {},
   "source": [
    "Our accuracy is very bad but we can account for more than half of the varaince. Let see what is happening."
   ]
  },
  {
   "cell_type": "code",
   "execution_count": 14,
   "metadata": {},
   "outputs": [
    {
     "data": {
      "text/plain": [
       "array([[ 2.58020165e-11,  3.15751946e-11, -1.84906752e-07,\n",
       "         8.77531017e-07]])"
      ]
     },
     "execution_count": 14,
     "metadata": {},
     "output_type": "execute_result"
    },
    {
     "data": {
      "image/png": "[encoded data removed]",
      "text/plain": [
       "<Figure size 432x288 with 1 Axes>"
      ]
     },
     "metadata": {
      "needs_background": "light"
     },
     "output_type": "display_data"
    }
   ],
   "source": [
    "plt.scatter(olympia_2016['true_medals'], olympia_2016['prediction'])\n",
    "plt.xlabel('true medals')\n",
    "plt.ylabel('prediction')\n",
    "\n",
    "lm.coef_"
   ]
  },
  {
   "cell_type": "code",
   "execution_count": 15,
   "metadata": {},
   "outputs": [
    {
     "data": {
      "text/html": [
       "<div>\n",
       "<style scoped>\n",
       "    .dataframe tbody tr th:only-of-type {\n",
       "        vertical-align: middle;\n",
       "    }\n",
       "\n",
       "    .dataframe tbody tr th {\n",
       "        vertical-align: top;\n",
       "    }\n",
       "\n",
       "    .dataframe thead th {\n",
       "        text-align: right;\n",
       "    }\n",
       "</style>\n",
       "<table border=\"1\" class=\"dataframe\">\n",
       "  <thead>\n",
       "    <tr style=\"text-align: right;\">\n",
       "      <th></th>\n",
       "      <th>electricity consumption</th>\n",
       "      <th>exports</th>\n",
       "      <th>internet users</th>\n",
       "      <th>oil imports</th>\n",
       "    </tr>\n",
       "  </thead>\n",
       "  <tbody>\n",
       "    <tr>\n",
       "      <th>electricity consumption</th>\n",
       "      <td>1.000000</td>\n",
       "      <td>0.818365</td>\n",
       "      <td>0.961135</td>\n",
       "      <td>0.821660</td>\n",
       "    </tr>\n",
       "    <tr>\n",
       "      <th>exports</th>\n",
       "      <td>0.818365</td>\n",
       "      <td>1.000000</td>\n",
       "      <td>0.853678</td>\n",
       "      <td>0.773788</td>\n",
       "    </tr>\n",
       "    <tr>\n",
       "      <th>internet users</th>\n",
       "      <td>0.961135</td>\n",
       "      <td>0.853678</td>\n",
       "      <td>1.000000</td>\n",
       "      <td>0.780049</td>\n",
       "    </tr>\n",
       "    <tr>\n",
       "      <th>oil imports</th>\n",
       "      <td>0.821660</td>\n",
       "      <td>0.773788</td>\n",
       "      <td>0.780049</td>\n",
       "      <td>1.000000</td>\n",
       "    </tr>\n",
       "  </tbody>\n",
       "</table>\n",
       "</div>"
      ],
      "text/plain": [
       "                         electricity consumption   exports  internet users  \\\n",
       "electricity consumption                 1.000000  0.818365        0.961135   \n",
       "exports                                 0.818365  1.000000        0.853678   \n",
       "internet users                          0.961135  0.853678        1.000000   \n",
       "oil imports                             0.821660  0.773788        0.780049   \n",
       "\n",
       "                         oil imports  \n",
       "electricity consumption     0.821660  \n",
       "exports                     0.773788  \n",
       "internet users              0.780049  \n",
       "oil imports                 1.000000  "
      ]
     },
     "execution_count": 15,
     "metadata": {},
     "output_type": "execute_result"
    }
   ],
   "source": [
    "olympia[independent_variables].corr()"
   ]
  },
  {
   "cell_type": "markdown",
   "metadata": {},
   "source": [
    "The problem appears to be that the measures we selected correlate very much among each other, i.e. combining them does not help us very much as they measure to a large extent the same thing (presumably economic development of the country)."
   ]
  },
  {
   "cell_type": "markdown",
   "metadata": {},
   "source": [
    "### Naive Baseline"
   ]
  },
  {
   "cell_type": "markdown",
   "metadata": {},
   "source": [
    "How good are we compared to a naïve approach though? A very simple prediction is to predict always the most common value. What is the most common value for medals in the data set?"
   ]
  },
  {
   "cell_type": "code",
   "execution_count": 16,
   "metadata": {},
   "outputs": [
    {
     "data": {
      "text/plain": [
       "float"
      ]
     },
     "execution_count": 16,
     "metadata": {},
     "output_type": "execute_result"
    }
   ],
   "source": [
    "median_medals = olympia_pre16['medals'].mean()\n",
    "type(median_medals)\n",
    "# print(\"The median medal count is %.0f.\" % median_medals)"
   ]
  },
  {
   "cell_type": "markdown",
   "metadata": {},
   "source": [
    "Calculate metrics of a model that always predicts the median value."
   ]
  },
  {
   "cell_type": "code",
   "execution_count": 17,
   "metadata": {},
   "outputs": [
    {
     "ename": "ValueError",
     "evalue": "Classification metrics can't handle a mix of multiclass and continuous targets",
     "output_type": "error",
     "traceback": [
      "\u001b[0;31m---------------------------------------------------------------------------\u001b[0m",
      "\u001b[0;31mValueError\u001b[0m                                Traceback (most recent call last)",
      "\u001b[0;32m<ipython-input-17-f676fcd0601e>\u001b[0m in \u001b[0;36m<module>\u001b[0;34m\u001b[0m\n\u001b[1;32m      2\u001b[0m \u001b[0;34m\u001b[0m\u001b[0m\n\u001b[1;32m      3\u001b[0m \u001b[0mr2_naive\u001b[0m \u001b[0;34m=\u001b[0m \u001b[0mr2_score\u001b[0m\u001b[0;34m(\u001b[0m\u001b[0molympia_2016\u001b[0m\u001b[0;34m[\u001b[0m\u001b[0;34m'true_medals'\u001b[0m\u001b[0;34m]\u001b[0m\u001b[0;34m,\u001b[0m \u001b[0mnaive_predictions\u001b[0m\u001b[0;34m)\u001b[0m\u001b[0;34m\u001b[0m\u001b[0;34m\u001b[0m\u001b[0m\n\u001b[0;32m----> 4\u001b[0;31m \u001b[0maccuracy_naive\u001b[0m \u001b[0;34m=\u001b[0m \u001b[0maccuracy_score\u001b[0m\u001b[0;34m(\u001b[0m\u001b[0molympia_2016\u001b[0m\u001b[0;34m[\u001b[0m\u001b[0;34m'true_medals'\u001b[0m\u001b[0;34m]\u001b[0m\u001b[0;34m,\u001b[0m \u001b[0mnaive_predictions\u001b[0m\u001b[0;34m)\u001b[0m\u001b[0;34m\u001b[0m\u001b[0;34m\u001b[0m\u001b[0m\n\u001b[0m\u001b[1;32m      5\u001b[0m \u001b[0mmse_naive\u001b[0m \u001b[0;34m=\u001b[0m \u001b[0mmean_squared_error\u001b[0m\u001b[0;34m(\u001b[0m\u001b[0molympia_2016\u001b[0m\u001b[0;34m[\u001b[0m\u001b[0;34m'true_medals'\u001b[0m\u001b[0;34m]\u001b[0m\u001b[0;34m,\u001b[0m \u001b[0mnaive_predictions\u001b[0m\u001b[0;34m)\u001b[0m\u001b[0;34m\u001b[0m\u001b[0;34m\u001b[0m\u001b[0m\n\u001b[1;32m      6\u001b[0m \u001b[0;34m\u001b[0m\u001b[0m\n",
      "\u001b[0;32m~/anaconda3/lib/python3.7/site-packages/sklearn/metrics/classification.py\u001b[0m in \u001b[0;36maccuracy_score\u001b[0;34m(y_true, y_pred, normalize, sample_weight)\u001b[0m\n\u001b[1;32m    174\u001b[0m \u001b[0;34m\u001b[0m\u001b[0m\n\u001b[1;32m    175\u001b[0m     \u001b[0;31m# Compute accuracy for each possible representation\u001b[0m\u001b[0;34m\u001b[0m\u001b[0;34m\u001b[0m\u001b[0;34m\u001b[0m\u001b[0m\n\u001b[0;32m--> 176\u001b[0;31m     \u001b[0my_type\u001b[0m\u001b[0;34m,\u001b[0m \u001b[0my_true\u001b[0m\u001b[0;34m,\u001b[0m \u001b[0my_pred\u001b[0m \u001b[0;34m=\u001b[0m \u001b[0m_check_targets\u001b[0m\u001b[0;34m(\u001b[0m\u001b[0my_true\u001b[0m\u001b[0;34m,\u001b[0m \u001b[0my_pred\u001b[0m\u001b[0;34m)\u001b[0m\u001b[0;34m\u001b[0m\u001b[0;34m\u001b[0m\u001b[0m\n\u001b[0m\u001b[1;32m    177\u001b[0m     \u001b[0mcheck_consistent_length\u001b[0m\u001b[0;34m(\u001b[0m\u001b[0my_true\u001b[0m\u001b[0;34m,\u001b[0m \u001b[0my_pred\u001b[0m\u001b[0;34m,\u001b[0m \u001b[0msample_weight\u001b[0m\u001b[0;34m)\u001b[0m\u001b[0;34m\u001b[0m\u001b[0;34m\u001b[0m\u001b[0m\n\u001b[1;32m    178\u001b[0m     \u001b[0;32mif\u001b[0m \u001b[0my_type\u001b[0m\u001b[0;34m.\u001b[0m\u001b[0mstartswith\u001b[0m\u001b[0;34m(\u001b[0m\u001b[0;34m'multilabel'\u001b[0m\u001b[0;34m)\u001b[0m\u001b[0;34m:\u001b[0m\u001b[0;34m\u001b[0m\u001b[0;34m\u001b[0m\u001b[0m\n",
      "\u001b[0;32m~/anaconda3/lib/python3.7/site-packages/sklearn/metrics/classification.py\u001b[0m in \u001b[0;36m_check_targets\u001b[0;34m(y_true, y_pred)\u001b[0m\n\u001b[1;32m     79\u001b[0m     \u001b[0;32mif\u001b[0m \u001b[0mlen\u001b[0m\u001b[0;34m(\u001b[0m\u001b[0my_type\u001b[0m\u001b[0;34m)\u001b[0m \u001b[0;34m>\u001b[0m \u001b[0;36m1\u001b[0m\u001b[0;34m:\u001b[0m\u001b[0;34m\u001b[0m\u001b[0;34m\u001b[0m\u001b[0m\n\u001b[1;32m     80\u001b[0m         raise ValueError(\"Classification metrics can't handle a mix of {0} \"\n\u001b[0;32m---> 81\u001b[0;31m                          \"and {1} targets\".format(type_true, type_pred))\n\u001b[0m\u001b[1;32m     82\u001b[0m \u001b[0;34m\u001b[0m\u001b[0m\n\u001b[1;32m     83\u001b[0m     \u001b[0;31m# We can't have more than one value on y_type => The set is no more needed\u001b[0m\u001b[0;34m\u001b[0m\u001b[0;34m\u001b[0m\u001b[0;34m\u001b[0m\u001b[0m\n",
      "\u001b[0;31mValueError\u001b[0m: Classification metrics can't handle a mix of multiclass and continuous targets"
     ]
    }
   ],
   "source": [
    "naive_predictions = [median_medals] * olympia_2016.shape[0]\n",
    "\n",
    "r2_naive = r2_score(olympia_2016['true_medals'], naive_predictions)\n",
    "accuracy_naive = accuracy_score(olympia_2016['true_medals'], naive_predictions)\n",
    "mse_naive = mean_squared_error(olympia_2016['true_medals'], naive_predictions)\n",
    "\n",
    "print(\"Naive R2 (variance explained): %.2f\" % r2_naive)\n",
    "print(\"Naive Accuracy: %.2f\" % accuracy_naive)\n",
    "print(\"Naive MSE: %.2f\" % mse_naive)\n",
    "print(\"Ouch! The accuracy is (by definition of the median) much better! %.2f%%!\" % (accuracy_naive * 100.0))"
   ]
  },
  {
   "cell_type": "markdown",
   "metadata": {},
   "source": [
    "But the MSE is worse and the variance explained is close to 0. So arguably we are predicting better despite missing most predictions."
   ]
  },
  {
   "cell_type": "markdown",
   "metadata": {},
   "source": [
    "### Making the Prediction Better"
   ]
  },
  {
   "cell_type": "markdown",
   "metadata": {},
   "source": [
    "Can we improve our accuracy? We need to select better features! Let's look at those correlations again."
   ]
  },
  {
   "cell_type": "code",
   "execution_count": 18,
   "metadata": {
    "scrolled": true
   },
   "outputs": [
    {
     "data": {
      "text/plain": [
       "medals                      1.000000\n",
       "electricity consumption     0.782745\n",
       "exports                     0.769728\n",
       "internet users              0.751845\n",
       "oil imports                 0.749657\n",
       "geographic area             0.634710\n",
       "pop                         0.415016\n",
       "region                      0.362122\n",
       "host                        0.304442\n",
       "gdp per capita              0.283597\n",
       "population growth rate      0.273188\n",
       "health expenditures         0.242673\n",
       "life expectancy at birth    0.241673\n",
       "gdp_cap                     0.211975\n",
       "continent                   0.203508\n",
       "unemployment rate           0.172209\n",
       "net migration rate          0.088922\n",
       "public debt                 0.062112\n",
       "obesity                     0.056740\n",
       "gross national saving       0.050463\n",
       "gdp growth rate             0.043479\n",
       "inflation rate              0.023262\n",
       "education expenditures      0.019502\n",
       "military expenditures       0.015251\n",
       "year                        0.006990\n",
       "Name: medals, dtype: float64"
      ]
     },
     "execution_count": 18,
     "metadata": {},
     "output_type": "execute_result"
    }
   ],
   "source": [
    "olympia.corr()['medals'].abs().sort_values(ascending=False)"
   ]
  },
  {
   "cell_type": "markdown",
   "metadata": {},
   "source": [
    "Earlier we dismissed the medal count as a feature because it is our dependent variable. But we can still use it. Remember that we are trying to predict the medal count for 2016 only. We can use all previous medal counts as a feature. Let's construct an aggregate medal count from the medals won by a country in previous years. "
   ]
  },
  {
   "cell_type": "code",
   "execution_count": 19,
   "metadata": {},
   "outputs": [
    {
     "data": {
      "text/html": [
       "<div>\n",
       "<style scoped>\n",
       "    .dataframe tbody tr th:only-of-type {\n",
       "        vertical-align: middle;\n",
       "    }\n",
       "\n",
       "    .dataframe tbody tr th {\n",
       "        vertical-align: top;\n",
       "    }\n",
       "\n",
       "    .dataframe thead th {\n",
       "        text-align: right;\n",
       "    }\n",
       "</style>\n",
       "<table border=\"1\" class=\"dataframe\">\n",
       "  <thead>\n",
       "    <tr style=\"text-align: right;\">\n",
       "      <th></th>\n",
       "      <th>medals_median</th>\n",
       "    </tr>\n",
       "    <tr>\n",
       "      <th>country</th>\n",
       "      <th></th>\n",
       "    </tr>\n",
       "  </thead>\n",
       "  <tbody>\n",
       "    <tr>\n",
       "      <th>Vietnam</th>\n",
       "      <td>0.0</td>\n",
       "    </tr>\n",
       "    <tr>\n",
       "      <th>Bermuda</th>\n",
       "      <td>0.0</td>\n",
       "    </tr>\n",
       "    <tr>\n",
       "      <th>Brunei</th>\n",
       "      <td>0.0</td>\n",
       "    </tr>\n",
       "    <tr>\n",
       "      <th>Morocco</th>\n",
       "      <td>2.0</td>\n",
       "    </tr>\n",
       "    <tr>\n",
       "      <th>Lebanon</th>\n",
       "      <td>0.0</td>\n",
       "    </tr>\n",
       "    <tr>\n",
       "      <th>Uganda</th>\n",
       "      <td>0.0</td>\n",
       "    </tr>\n",
       "    <tr>\n",
       "      <th>Zambia</th>\n",
       "      <td>0.0</td>\n",
       "    </tr>\n",
       "    <tr>\n",
       "      <th>Guatemala</th>\n",
       "      <td>0.0</td>\n",
       "    </tr>\n",
       "    <tr>\n",
       "      <th>Japan</th>\n",
       "      <td>25.0</td>\n",
       "    </tr>\n",
       "    <tr>\n",
       "      <th>Uzbekistan</th>\n",
       "      <td>4.5</td>\n",
       "    </tr>\n",
       "  </tbody>\n",
       "</table>\n",
       "</div>"
      ],
      "text/plain": [
       "            medals_median\n",
       "country                  \n",
       "Vietnam               0.0\n",
       "Bermuda               0.0\n",
       "Brunei                0.0\n",
       "Morocco               2.0\n",
       "Lebanon               0.0\n",
       "Uganda                0.0\n",
       "Zambia                0.0\n",
       "Guatemala             0.0\n",
       "Japan                25.0\n",
       "Uzbekistan            4.5"
      ]
     },
     "execution_count": 19,
     "metadata": {},
     "output_type": "execute_result"
    }
   ],
   "source": [
    "median_medals_by_country = olympia_pre16.groupby(['country'])[['medals']].median()\n",
    "median_medals_by_country.rename(columns={'medals': 'medals_median'}, inplace=True)\n",
    "\n",
    "median_medals_by_country.sample(10)"
   ]
  },
  {
   "cell_type": "markdown",
   "metadata": {},
   "source": [
    "Let's create a model with our new feature. We can add some of the other high-correlation features as well."
   ]
  },
  {
   "cell_type": "code",
   "execution_count": 20,
   "metadata": {},
   "outputs": [
    {
     "name": "stdout",
     "output_type": "stream",
     "text": [
      "Our new feature has a correlation of 0.98!\n"
     ]
    }
   ],
   "source": [
    "independent_variables2 = ['medals_median', 'exports', 'geographic area', 'region']\n",
    "\n",
    "training_data2 = olympia_pre16[(['year', 'country'] + dependent_variable + independent_variables2[1:])]\n",
    "training_data2 = training_data2.merge(median_medals_by_country, how='left', left_on='country', right_index=True)\n",
    "print(\"Our new feature has a correlation of %.2f!\" % training_data2.corr()['medals']['medals_median'])"
   ]
  },
  {
   "cell_type": "code",
   "execution_count": 21,
   "metadata": {},
   "outputs": [
    {
     "name": "stdout",
     "output_type": "stream",
     "text": [
      "There are 656 records.\n"
     ]
    },
    {
     "data": {
      "text/html": [
       "<div>\n",
       "<style scoped>\n",
       "    .dataframe tbody tr th:only-of-type {\n",
       "        vertical-align: middle;\n",
       "    }\n",
       "\n",
       "    .dataframe tbody tr th {\n",
       "        vertical-align: top;\n",
       "    }\n",
       "\n",
       "    .dataframe thead th {\n",
       "        text-align: right;\n",
       "    }\n",
       "</style>\n",
       "<table border=\"1\" class=\"dataframe\">\n",
       "  <thead>\n",
       "    <tr style=\"text-align: right;\">\n",
       "      <th></th>\n",
       "      <th>year</th>\n",
       "      <th>country</th>\n",
       "      <th>medals</th>\n",
       "      <th>exports</th>\n",
       "      <th>geographic area</th>\n",
       "      <th>region</th>\n",
       "      <th>medals_median</th>\n",
       "    </tr>\n",
       "  </thead>\n",
       "  <tbody>\n",
       "    <tr>\n",
       "      <th>217</th>\n",
       "      <td>2004</td>\n",
       "      <td>Costa Rica</td>\n",
       "      <td>0</td>\n",
       "      <td>6.176000e+09</td>\n",
       "      <td>51100.0</td>\n",
       "      <td>6</td>\n",
       "      <td>0.0</td>\n",
       "    </tr>\n",
       "    <tr>\n",
       "      <th>163</th>\n",
       "      <td>2000</td>\n",
       "      <td>Cape Verde</td>\n",
       "      <td>0</td>\n",
       "      <td>3.800000e+07</td>\n",
       "      <td>4033.0</td>\n",
       "      <td>5</td>\n",
       "      <td>0.0</td>\n",
       "    </tr>\n",
       "    <tr>\n",
       "      <th>710</th>\n",
       "      <td>2012</td>\n",
       "      <td>Panama</td>\n",
       "      <td>0</td>\n",
       "      <td>1.797000e+10</td>\n",
       "      <td>75420.0</td>\n",
       "      <td>6</td>\n",
       "      <td>0.0</td>\n",
       "    </tr>\n",
       "    <tr>\n",
       "      <th>342</th>\n",
       "      <td>2004</td>\n",
       "      <td>Georgia</td>\n",
       "      <td>4</td>\n",
       "      <td>6.150000e+08</td>\n",
       "      <td>69700.0</td>\n",
       "      <td>2</td>\n",
       "      <td>6.0</td>\n",
       "    </tr>\n",
       "    <tr>\n",
       "      <th>859</th>\n",
       "      <td>2004</td>\n",
       "      <td>Sri Lanka</td>\n",
       "      <td>0</td>\n",
       "      <td>5.269000e+09</td>\n",
       "      <td>65610.0</td>\n",
       "      <td>3</td>\n",
       "      <td>0.0</td>\n",
       "    </tr>\n",
       "  </tbody>\n",
       "</table>\n",
       "</div>"
      ],
      "text/plain": [
       "     year     country  medals       exports  geographic area  region  \\\n",
       "217  2004  Costa Rica       0  6.176000e+09          51100.0       6   \n",
       "163  2000  Cape Verde       0  3.800000e+07           4033.0       5   \n",
       "710  2012      Panama       0  1.797000e+10          75420.0       6   \n",
       "342  2004     Georgia       4  6.150000e+08          69700.0       2   \n",
       "859  2004   Sri Lanka       0  5.269000e+09          65610.0       3   \n",
       "\n",
       "     medals_median  \n",
       "217            0.0  \n",
       "163            0.0  \n",
       "710            0.0  \n",
       "342            6.0  \n",
       "859            0.0  "
      ]
     },
     "execution_count": 21,
     "metadata": {},
     "output_type": "execute_result"
    }
   ],
   "source": [
    "training_data2.dropna(how='any', inplace=True)\n",
    "print(\"There are %d records.\" % training_data2.shape[0])\n",
    "\n",
    "lm2 = LinearRegression()\n",
    "lm2.fit(training_data2[independent_variables2], training_data2[dependent_variable])\n",
    "\n",
    "training_data2.sample(5)"
   ]
  },
  {
   "cell_type": "code",
   "execution_count": 22,
   "metadata": {},
   "outputs": [
    {
     "data": {
      "text/html": [
       "<div>\n",
       "<style scoped>\n",
       "    .dataframe tbody tr th:only-of-type {\n",
       "        vertical-align: middle;\n",
       "    }\n",
       "\n",
       "    .dataframe tbody tr th {\n",
       "        vertical-align: top;\n",
       "    }\n",
       "\n",
       "    .dataframe thead th {\n",
       "        text-align: right;\n",
       "    }\n",
       "</style>\n",
       "<table border=\"1\" class=\"dataframe\">\n",
       "  <thead>\n",
       "    <tr style=\"text-align: right;\">\n",
       "      <th></th>\n",
       "      <th>country</th>\n",
       "      <th>true_medals</th>\n",
       "      <th>exports</th>\n",
       "      <th>geographic area</th>\n",
       "      <th>region</th>\n",
       "      <th>medals_median</th>\n",
       "    </tr>\n",
       "  </thead>\n",
       "  <tbody>\n",
       "    <tr>\n",
       "      <th>0</th>\n",
       "      <td>Afghanistan</td>\n",
       "      <td>0</td>\n",
       "      <td>3.760000e+08</td>\n",
       "      <td>652230.0</td>\n",
       "      <td>3</td>\n",
       "      <td>1.0</td>\n",
       "    </tr>\n",
       "    <tr>\n",
       "      <th>1</th>\n",
       "      <td>Albania</td>\n",
       "      <td>0</td>\n",
       "      <td>2.323000e+09</td>\n",
       "      <td>28748.0</td>\n",
       "      <td>2</td>\n",
       "      <td>0.0</td>\n",
       "    </tr>\n",
       "    <tr>\n",
       "      <th>2</th>\n",
       "      <td>Algeria</td>\n",
       "      <td>2</td>\n",
       "      <td>6.825000e+10</td>\n",
       "      <td>2381741.0</td>\n",
       "      <td>4</td>\n",
       "      <td>2.0</td>\n",
       "    </tr>\n",
       "    <tr>\n",
       "      <th>3</th>\n",
       "      <td>Antigua and Barbuda</td>\n",
       "      <td>0</td>\n",
       "      <td>5.500000e+07</td>\n",
       "      <td>442.6</td>\n",
       "      <td>6</td>\n",
       "      <td>0.0</td>\n",
       "    </tr>\n",
       "    <tr>\n",
       "      <th>4</th>\n",
       "      <td>Armenia</td>\n",
       "      <td>4</td>\n",
       "      <td>1.653000e+09</td>\n",
       "      <td>29743.0</td>\n",
       "      <td>2</td>\n",
       "      <td>2.0</td>\n",
       "    </tr>\n",
       "  </tbody>\n",
       "</table>\n",
       "</div>"
      ],
      "text/plain": [
       "               country  true_medals       exports  geographic area  region  \\\n",
       "0          Afghanistan            0  3.760000e+08         652230.0       3   \n",
       "1              Albania            0  2.323000e+09          28748.0       2   \n",
       "2              Algeria            2  6.825000e+10        2381741.0       4   \n",
       "3  Antigua and Barbuda            0  5.500000e+07            442.6       6   \n",
       "4              Armenia            4  1.653000e+09          29743.0       2   \n",
       "\n",
       "   medals_median  \n",
       "0            1.0  \n",
       "1            0.0  \n",
       "2            2.0  \n",
       "3            0.0  \n",
       "4            2.0  "
      ]
     },
     "execution_count": 22,
     "metadata": {},
     "output_type": "execute_result"
    }
   ],
   "source": [
    "olympia_2016_2 = olympia[olympia['year'] == 2016][['country', 'medals'] + independent_variables2[1:]]\n",
    "olympia_2016_2.rename(columns={'medals': 'true_medals'}, inplace=True)\n",
    "olympia_2016_2.index = range(olympia_2016_2.shape[0])\n",
    "\n",
    "olympia_2016_2 = olympia_2016_2.merge(median_medals_by_country, how='left', left_on='country', right_index=True)\n",
    "olympia_2016_2.head()"
   ]
  },
  {
   "cell_type": "code",
   "execution_count": 23,
   "metadata": {},
   "outputs": [
    {
     "data": {
      "text/html": [
       "<div>\n",
       "<style scoped>\n",
       "    .dataframe tbody tr th:only-of-type {\n",
       "        vertical-align: middle;\n",
       "    }\n",
       "\n",
       "    .dataframe tbody tr th {\n",
       "        vertical-align: top;\n",
       "    }\n",
       "\n",
       "    .dataframe thead th {\n",
       "        text-align: right;\n",
       "    }\n",
       "</style>\n",
       "<table border=\"1\" class=\"dataframe\">\n",
       "  <thead>\n",
       "    <tr style=\"text-align: right;\">\n",
       "      <th></th>\n",
       "      <th>country</th>\n",
       "      <th>true_medals</th>\n",
       "      <th>exports</th>\n",
       "      <th>geographic area</th>\n",
       "      <th>region</th>\n",
       "      <th>medals_median</th>\n",
       "      <th>prediction</th>\n",
       "      <th>prediction_rounded</th>\n",
       "    </tr>\n",
       "  </thead>\n",
       "  <tbody>\n",
       "    <tr>\n",
       "      <th>177</th>\n",
       "      <td>Vanuatu</td>\n",
       "      <td>0</td>\n",
       "      <td>4.310000e+07</td>\n",
       "      <td>12189.0</td>\n",
       "      <td>3</td>\n",
       "      <td>0.0</td>\n",
       "      <td>-0.163911</td>\n",
       "      <td>0</td>\n",
       "    </tr>\n",
       "    <tr>\n",
       "      <th>111</th>\n",
       "      <td>Montenegro</td>\n",
       "      <td>0</td>\n",
       "      <td>4.892000e+08</td>\n",
       "      <td>13812.0</td>\n",
       "      <td>2</td>\n",
       "      <td>1.0</td>\n",
       "      <td>0.674325</td>\n",
       "      <td>1</td>\n",
       "    </tr>\n",
       "    <tr>\n",
       "      <th>100</th>\n",
       "      <td>Malaysia</td>\n",
       "      <td>5</td>\n",
       "      <td>2.310000e+11</td>\n",
       "      <td>329847.0</td>\n",
       "      <td>3</td>\n",
       "      <td>1.0</td>\n",
       "      <td>2.490277</td>\n",
       "      <td>2</td>\n",
       "    </tr>\n",
       "    <tr>\n",
       "      <th>179</th>\n",
       "      <td>Vietnam</td>\n",
       "      <td>2</td>\n",
       "      <td>1.290000e+11</td>\n",
       "      <td>331210.0</td>\n",
       "      <td>3</td>\n",
       "      <td>0.0</td>\n",
       "      <td>0.775522</td>\n",
       "      <td>1</td>\n",
       "    </tr>\n",
       "    <tr>\n",
       "      <th>119</th>\n",
       "      <td>Niger</td>\n",
       "      <td>1</td>\n",
       "      <td>1.539000e+09</td>\n",
       "      <td>1267000.0</td>\n",
       "      <td>5</td>\n",
       "      <td>0.0</td>\n",
       "      <td>0.098191</td>\n",
       "      <td>0</td>\n",
       "    </tr>\n",
       "    <tr>\n",
       "      <th>123</th>\n",
       "      <td>Pakistan</td>\n",
       "      <td>0</td>\n",
       "      <td>2.505000e+10</td>\n",
       "      <td>796095.0</td>\n",
       "      <td>3</td>\n",
       "      <td>0.0</td>\n",
       "      <td>0.009142</td>\n",
       "      <td>0</td>\n",
       "    </tr>\n",
       "    <tr>\n",
       "      <th>92</th>\n",
       "      <td>Lesotho</td>\n",
       "      <td>0</td>\n",
       "      <td>9.412000e+08</td>\n",
       "      <td>30355.0</td>\n",
       "      <td>5</td>\n",
       "      <td>0.0</td>\n",
       "      <td>0.109435</td>\n",
       "      <td>0</td>\n",
       "    </tr>\n",
       "    <tr>\n",
       "      <th>52</th>\n",
       "      <td>Eritrea</td>\n",
       "      <td>0</td>\n",
       "      <td>4.962000e+08</td>\n",
       "      <td>117600.0</td>\n",
       "      <td>5</td>\n",
       "      <td>0.0</td>\n",
       "      <td>0.105078</td>\n",
       "      <td>0</td>\n",
       "    </tr>\n",
       "    <tr>\n",
       "      <th>78</th>\n",
       "      <td>Ireland</td>\n",
       "      <td>2</td>\n",
       "      <td>1.140000e+11</td>\n",
       "      <td>70273.0</td>\n",
       "      <td>1</td>\n",
       "      <td>3.0</td>\n",
       "      <td>3.307558</td>\n",
       "      <td>3</td>\n",
       "    </tr>\n",
       "    <tr>\n",
       "      <th>144</th>\n",
       "      <td>Singapore</td>\n",
       "      <td>1</td>\n",
       "      <td>4.100000e+11</td>\n",
       "      <td>697.0</td>\n",
       "      <td>3</td>\n",
       "      <td>0.0</td>\n",
       "      <td>2.835521</td>\n",
       "      <td>3</td>\n",
       "    </tr>\n",
       "  </tbody>\n",
       "</table>\n",
       "</div>"
      ],
      "text/plain": [
       "        country  true_medals       exports  geographic area  region  \\\n",
       "177     Vanuatu            0  4.310000e+07          12189.0       3   \n",
       "111  Montenegro            0  4.892000e+08          13812.0       2   \n",
       "100    Malaysia            5  2.310000e+11         329847.0       3   \n",
       "179     Vietnam            2  1.290000e+11         331210.0       3   \n",
       "119       Niger            1  1.539000e+09        1267000.0       5   \n",
       "123    Pakistan            0  2.505000e+10         796095.0       3   \n",
       "92      Lesotho            0  9.412000e+08          30355.0       5   \n",
       "52      Eritrea            0  4.962000e+08         117600.0       5   \n",
       "78      Ireland            2  1.140000e+11          70273.0       1   \n",
       "144   Singapore            1  4.100000e+11            697.0       3   \n",
       "\n",
       "     medals_median  prediction  prediction_rounded  \n",
       "177            0.0   -0.163911                   0  \n",
       "111            1.0    0.674325                   1  \n",
       "100            1.0    2.490277                   2  \n",
       "179            0.0    0.775522                   1  \n",
       "119            0.0    0.098191                   0  \n",
       "123            0.0    0.009142                   0  \n",
       "92             0.0    0.109435                   0  \n",
       "52             0.0    0.105078                   0  \n",
       "78             3.0    3.307558                   3  \n",
       "144            0.0    2.835521                   3  "
      ]
     },
     "execution_count": 23,
     "metadata": {},
     "output_type": "execute_result"
    }
   ],
   "source": [
    "feature_medians2 = olympia_2016_2[independent_variables2].median().to_dict()\n",
    "\n",
    "olympia_2016_2['prediction'] = lm2.predict(olympia_2016_2[independent_variables2].fillna(feature_medians2))\n",
    "olympia_2016_2['prediction_rounded'] = [int(round(c)) for c in olympia_2016_2['prediction']]\n",
    "\n",
    "olympia_2016_2.sample(10)"
   ]
  },
  {
   "cell_type": "code",
   "execution_count": 24,
   "metadata": {},
   "outputs": [
    {
     "name": "stdout",
     "output_type": "stream",
     "text": [
      "Linear Regression R2 (variance explained): 0.85\n",
      "Linear Regression Accuracy: 0.54\n",
      "Linear Regression MSE: 28.50\n",
      "We predicted only 54% correctly!\n"
     ]
    }
   ],
   "source": [
    "lm2_r_squared = lm2.score(olympia_2016_2[independent_variables2].fillna(feature_medians2), olympia_2016_2['true_medals'])\n",
    "lm2_accuracy = accuracy_score(olympia_2016_2['true_medals'], olympia_2016_2['prediction_rounded'])\n",
    "lm2_mse = mean_squared_error(olympia_2016_2['true_medals'], olympia_2016_2['prediction_rounded'])\n",
    "\n",
    "print(\"Linear Regression R2 (variance explained): %.2f\" % lm2_r_squared)\n",
    "print(\"Linear Regression Accuracy: %.2f\" % lm2_accuracy)\n",
    "print(\"Linear Regression MSE: %.2f\" % lm2_mse)\n",
    "print(\"We predicted only %.0f%% correctly!\" % (lm2_accuracy * 100.0))"
   ]
  },
  {
   "cell_type": "markdown",
   "metadata": {},
   "source": [
    "The accuracy is about as good as the naive classifier but the varaince explained is much better and the MSE much lower. Success!"
   ]
  },
  {
   "cell_type": "code",
   "execution_count": 25,
   "metadata": {},
   "outputs": [
    {
     "data": {
      "text/plain": [
       "Text(0, 0.5, 'prediction')"
      ]
     },
     "execution_count": 25,
     "metadata": {},
     "output_type": "execute_result"
    },
    {
     "data": {
      "image/png": "[encoded data removed]",
      "text/plain": [
       "<Figure size 432x288 with 1 Axes>"
      ]
     },
     "metadata": {
      "needs_background": "light"
     },
     "output_type": "display_data"
    }
   ],
   "source": [
    "plt.scatter(olympia_2016_2['true_medals'], olympia_2016_2['prediction'])\n",
    "plt.xlabel('true medals')\n",
    "plt.ylabel('prediction')"
   ]
  },
  {
   "cell_type": "code",
   "execution_count": null,
   "metadata": {},
   "outputs": [],
   "source": []
  },
  {
   "cell_type": "code",
   "execution_count": null,
   "metadata": {},
   "outputs": [],
   "source": []
  }
 ],
 "metadata": {
  "kernelspec": {
   "display_name": "Python 3",
   "language": "python",
   "name": "python3"
  },
  "language_info": {
   "codemirror_mode": {
    "name": "ipython",
    "version": 3
   },
   "file_extension": ".py",
   "mimetype": "text/x-python",
   "name": "python",
   "nbconvert_exporter": "python",
   "pygments_lexer": "ipython3",
   "version": "3.7.1"
  }
 },
 "nbformat": 4,
 "nbformat_minor": 2
}
